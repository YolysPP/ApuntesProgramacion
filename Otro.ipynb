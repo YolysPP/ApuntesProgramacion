{
 "cells": [
  {
   "cell_type": "markdown",
   "id": "fa450918",
   "metadata": {},
   "source": [
    "# 3. Estructuras de Datos"
   ]
  },
  {
   "cell_type": "markdown",
   "id": "7d06db58",
   "metadata": {},
   "source": [
    "## Objetivo"
   ]
  },
  {
   "cell_type": "markdown",
   "id": "13c44f2d",
   "metadata": {},
   "source": [
    "Utiliza estructuras de datos homogéneas, heterógenas y asociativas para resolver problemas que involucren el almacenamiento, extracción y búsqueda de datos. "
   ]
  },
  {
   "cell_type": "markdown",
   "id": "025226b4",
   "metadata": {},
   "source": [
    "## 3.1 Estructuras de datos homogéneas"
   ]
  },
  {
   "cell_type": "markdown",
   "id": "506d9d14",
   "metadata": {},
   "source": [
    "Una estructura de datos homogénea es una colección ordenada de elementos que son del mismo tipo de datos. En Python, se pueden utilizar listas para crear y manipular colecciones de datos que contienen elementos del mismo tipo (int, str, float, etc)."
   ]
  },
  {
   "cell_type": "markdown",
   "id": "375bc84e",
   "metadata": {},
   "source": [
    "### Almacenamiento de datos en Memoria"
   ]
  },
  {
   "cell_type": "markdown",
   "id": "f40f1ea6",
   "metadata": {},
   "source": [
    "En la memoria de la computadora, una lista se almacena como una secuencia de ubicaciones contiguas en memoria. Cada ubicación en memoria guarda un elemento de la lista."
   ]
  },
  {
   "cell_type": "markdown",
   "id": "e9adfeed",
   "metadata": {},
   "source": [
    "Python asigna el espacio en memoria para esa lista y guarda los elementos uno tras otro en las posiciones reservadas. Para acceder a cada elemento específico, se puede hacer uso de su índice, sin olvidar que la indexación empieza en cero."
   ]
  },
  {
   "attachments": {
    "Indice_Lista-3.png": {
     "image/png": "[encoded data removed]"
    }
   },
   "cell_type": "markdown",
   "id": "3b0433f7",
   "metadata": {},
   "source": [
    "![Indice_Lista-3.png](attachment:Indice_Lista-3.png)"
   ]
  },
  {
   "cell_type": "markdown",
   "id": "fd9193bc",
   "metadata": {},
   "source": [
    "### Declaración de una lista"
   ]
  },
  {
   "cell_type": "markdown",
   "id": "fa30acf8",
   "metadata": {},
   "source": [
    "En Python, una lista se declara utilizando corchetes [] y separando los elementos con comas. Por ejemplo:"
   ]
  },
  {
   "cell_type": "code",
   "execution_count": null,
   "id": "d6c6173b",
   "metadata": {},
   "outputs": [],
   "source": [
    "mi_lista = [1, 2, 3, 4, 5]"
   ]
  },
  {
   "cell_type": "markdown",
   "id": "b5324b13",
   "metadata": {},
   "source": [
    "Una lista se puede declarar vacía de la siguiente forma:"
   ]
  },
  {
   "cell_type": "code",
   "execution_count": null,
   "id": "d727bac4",
   "metadata": {},
   "outputs": [],
   "source": [
    "mi_lista = []"
   ]
  },
  {
   "cell_type": "markdown",
   "id": "2021610e",
   "metadata": {},
   "source": [
    "### Modificación de un elemento en una lista"
   ]
  },
  {
   "cell_type": "markdown",
   "id": "940a5f83",
   "metadata": {},
   "source": [
    "Para modificar el contenido de una posición de la lista, se usa el operador asignación ```=```"
   ]
  },
  {
   "cell_type": "markdown",
   "id": "5aa84895",
   "metadata": {},
   "source": [
    "#### Ejemplos"
   ]
  },
  {
   "cell_type": "code",
   "execution_count": null,
   "id": "21a527e8",
   "metadata": {},
   "outputs": [],
   "source": [
    "lista = [1, 2, 3, 4, 5, 6, 7]"
   ]
  },
  {
   "cell_type": "code",
   "execution_count": null,
   "id": "7668dd98",
   "metadata": {},
   "outputs": [],
   "source": [
    "lista[4] = 10"
   ]
  },
  {
   "cell_type": "code",
   "execution_count": null,
   "id": "5747c6b8",
   "metadata": {},
   "outputs": [],
   "source": [
    "lista"
   ]
  },
  {
   "cell_type": "code",
   "execution_count": null,
   "id": "ef00f657",
   "metadata": {},
   "outputs": [],
   "source": [
    "lista_cadena = [\"Hola\", \" a \", \" todos\"]"
   ]
  },
  {
   "cell_type": "code",
   "execution_count": null,
   "id": "bc55efa6",
   "metadata": {},
   "outputs": [],
   "source": [
    "lista_cadena[1] = \"para\""
   ]
  },
  {
   "cell_type": "code",
   "execution_count": null,
   "id": "c0adc815",
   "metadata": {},
   "outputs": [],
   "source": [
    "lista_cadena\n"
   ]
  },
  {
   "cell_type": "markdown",
   "id": "5068f370",
   "metadata": {},
   "source": [
    "### Eliminanción de un objeto en una lista"
   ]
  },
  {
   "cell_type": "markdown",
   "id": "a11b0d18",
   "metadata": {},
   "source": [
    "Para eliminar un elemento de una lista se usa la declaración ```del```. El elemento identificado mediante su posición será eliminado y en caso de que existan, se recorrerá el índice de los elementos a la derecha del elemento eliminado."
   ]
  },
  {
   "cell_type": "markdown",
   "id": "2fa5138d",
   "metadata": {},
   "source": [
    "La sintaxis es la siguiente:  "
   ]
  },
  {
   "cell_type": "markdown",
   "id": "b44ada69",
   "metadata": {},
   "source": [
    "```\n",
    "del <objeto tipo list>[<posición>]\n",
    "```"
   ]
  },
  {
   "cell_type": "markdown",
   "id": "4f0daee9",
   "metadata": {},
   "source": [
    "#### Ejemplos:"
   ]
  },
  {
   "cell_type": "code",
   "execution_count": null,
   "id": "b914f960",
   "metadata": {},
   "outputs": [],
   "source": [
    "lista = [1, 2, 3, 4, 5]"
   ]
  },
  {
   "cell_type": "code",
   "execution_count": null,
   "id": "e23165ce",
   "metadata": {},
   "outputs": [],
   "source": [
    "lista"
   ]
  },
  {
   "cell_type": "code",
   "execution_count": null,
   "id": "78ea5c2f",
   "metadata": {},
   "outputs": [],
   "source": [
    "lista[3]"
   ]
  },
  {
   "cell_type": "code",
   "execution_count": null,
   "id": "03b511da",
   "metadata": {},
   "outputs": [],
   "source": [
    "del lista[3]"
   ]
  },
  {
   "cell_type": "code",
   "execution_count": null,
   "id": "89ade76d",
   "metadata": {},
   "outputs": [],
   "source": [
    "lista"
   ]
  },
  {
   "cell_type": "code",
   "execution_count": null,
   "id": "2db3c980",
   "metadata": {},
   "outputs": [],
   "source": [
    "lista[3]"
   ]
  },
  {
   "cell_type": "markdown",
   "id": "8cc8fd10",
   "metadata": {},
   "source": [
    "### Eliminación de un rango de elementos en una lista"
   ]
  },
  {
   "cell_type": "markdown",
   "id": "7563a949",
   "metadata": {},
   "source": [
    "Para eliminar un rango de elementos de una lista se usa la declaración ```del```con la siguiente sintaxis:"
   ]
  },
  {
   "cell_type": "markdown",
   "id": "f036129b",
   "metadata": {},
   "source": [
    "```\n",
    "del <objeto tipo list>[m:n]\n",
    "```"
   ]
  },
  {
   "cell_type": "markdown",
   "id": "873d11e9",
   "metadata": {},
   "source": [
    "En dónde:"
   ]
  },
  {
   "cell_type": "markdown",
   "id": "236b7647",
   "metadata": {},
   "source": [
    "* ```m``` es el índice inferior del rango.\n",
    "* ```n``` es el índice superior del rango."
   ]
  },
  {
   "cell_type": "markdown",
   "id": "c4528ae2",
   "metadata": {},
   "source": [
    "\n",
    "Esto eliminará los elementos en el rango que va de ```m``` hasta uno antes de ```n```."
   ]
  },
  {
   "cell_type": "markdown",
   "id": "7e97ed1b",
   "metadata": {},
   "source": [
    "#### Ejemplos: "
   ]
  },
  {
   "cell_type": "code",
   "execution_count": null,
   "id": "c25559a3",
   "metadata": {},
   "outputs": [],
   "source": [
    "lista = [10, 20, 30, 40, 50, 60, 70, 80, 90, 100]"
   ]
  },
  {
   "cell_type": "code",
   "execution_count": null,
   "id": "15374935",
   "metadata": {},
   "outputs": [],
   "source": [
    "lista"
   ]
  },
  {
   "cell_type": "code",
   "execution_count": null,
   "id": "bfb11e0d",
   "metadata": {},
   "outputs": [],
   "source": [
    "del lista[-3:-1]"
   ]
  },
  {
   "cell_type": "code",
   "execution_count": null,
   "id": "7eb1239d",
   "metadata": {},
   "outputs": [],
   "source": [
    "lista"
   ]
  },
  {
   "cell_type": "code",
   "execution_count": null,
   "id": "dfc93933",
   "metadata": {},
   "outputs": [],
   "source": [
    "del lista[1:4]"
   ]
  },
  {
   "cell_type": "code",
   "execution_count": null,
   "id": "9602cc5e",
   "metadata": {},
   "outputs": [],
   "source": [
    "lista"
   ]
  },
  {
   "cell_type": "markdown",
   "id": "9bd2b65c",
   "metadata": {},
   "source": [
    "### Extracción de sublistas"
   ]
  },
  {
   "cell_type": "markdown",
   "id": "06373cb5",
   "metadata": {},
   "source": [
    "Para extraer una sublista, se recomienda crear una nueva variable para almacenar un rango de una lista. "
   ]
  },
  {
   "cell_type": "markdown",
   "id": "91bab0c3",
   "metadata": {},
   "source": [
    "#### Ejemplo"
   ]
  },
  {
   "cell_type": "code",
   "execution_count": null,
   "id": "c4faa782",
   "metadata": {},
   "outputs": [],
   "source": [
    "lista = [\"nombre1\", \"apellido1\",\"calificacion1\", \"nombre2\", \"apellido2\", \"calificacion2\"]"
   ]
  },
  {
   "cell_type": "code",
   "execution_count": null,
   "id": "4e143d72",
   "metadata": {},
   "outputs": [],
   "source": [
    "lista"
   ]
  },
  {
   "cell_type": "code",
   "execution_count": null,
   "id": "f06e4787",
   "metadata": {},
   "outputs": [],
   "source": [
    "sublista = lista[0:3]\n",
    "sublista"
   ]
  },
  {
   "cell_type": "markdown",
   "id": "cfd85611",
   "metadata": {},
   "source": [
    "### Sustitución de un rango de elementos en una lista"
   ]
  },
  {
   "cell_type": "markdown",
   "id": "57be4101",
   "metadata": {},
   "source": [
    "Es posible sustituir uno o varios objetos definidos en un rango de índices dentro una lista usando la siguiente sintaxis:"
   ]
  },
  {
   "cell_type": "markdown",
   "id": "734b647a",
   "metadata": {},
   "source": [
    "```\n",
    "<objeto tipo list>[m:n] = <objeto 1>, <objeto 2>, ..., <objeto m-n>\n",
    "\n",
    "```\n",
    "\n",
    "En donde: \n",
    "\n",
    "* ```m``` es el índice inferior del rango.\n",
    "* ```n``` es el índice superior del rango.\n",
    "\n",
    "* Si el número de objetos a sustituir es menor que el rango definido, los objetos que no cuenten con un sustituto serán eliminados.\n",
    "* Si el numero de objetos a sustituir es mayor que el rango definido, los objetos adicionales se insertarán y desplazarán al resto a la derecha."
   ]
  },
  {
   "cell_type": "markdown",
   "id": "c860ed04",
   "metadata": {},
   "source": [
    "#### Ejemplos:"
   ]
  },
  {
   "cell_type": "code",
   "execution_count": null,
   "id": "a5764d31",
   "metadata": {},
   "outputs": [],
   "source": [
    "lista = [1, 2, 3, 4, 5, 6, 7, 8, 9, 10]"
   ]
  },
  {
   "cell_type": "code",
   "execution_count": null,
   "id": "27d52be3",
   "metadata": {},
   "outputs": [],
   "source": [
    "lista"
   ]
  },
  {
   "cell_type": "code",
   "execution_count": null,
   "id": "e2d2b164",
   "metadata": {},
   "outputs": [],
   "source": [
    "lista[2:5] = [30, 40, 50]"
   ]
  },
  {
   "cell_type": "code",
   "execution_count": null,
   "id": "16cbf7ce",
   "metadata": {},
   "outputs": [],
   "source": [
    "lista"
   ]
  },
  {
   "cell_type": "code",
   "execution_count": null,
   "id": "b3169b1d",
   "metadata": {},
   "outputs": [],
   "source": [
    "lista[5:]"
   ]
  },
  {
   "cell_type": "code",
   "execution_count": null,
   "id": "80810a4b",
   "metadata": {},
   "outputs": [],
   "source": [
    "lista[5:] = 60, 70"
   ]
  },
  {
   "cell_type": "code",
   "execution_count": null,
   "id": "93aba974",
   "metadata": {},
   "outputs": [],
   "source": [
    "lista"
   ]
  },
  {
   "cell_type": "code",
   "execution_count": null,
   "id": "e9ff019e",
   "metadata": {},
   "outputs": [],
   "source": [
    "lista[5:]"
   ]
  },
  {
   "cell_type": "markdown",
   "id": "114871fa",
   "metadata": {},
   "source": [
    "### Métodos de las listas"
   ]
  },
  {
   "cell_type": "markdown",
   "id": "bbac0a53",
   "metadata": {},
   "source": [
    "#### Método ```Append()```"
   ]
  },
  {
   "cell_type": "markdown",
   "id": "8e2e9460",
   "metadata": {},
   "source": [
    "Este método agrega al final de la lista, el elementoque se ingresa como argumento\n",
    "\n",
    "```\n",
    "<objeto tipo list>.append(<objeto>)\n",
    "```"
   ]
  },
  {
   "cell_type": "markdown",
   "id": "62826d0c",
   "metadata": {},
   "source": [
    "##### Ejemplo:"
   ]
  },
  {
   "cell_type": "code",
   "execution_count": null,
   "id": "e640eb55",
   "metadata": {},
   "outputs": [],
   "source": [
    "lista = [1, 2, 3, 4, 5, 6]"
   ]
  },
  {
   "cell_type": "code",
   "execution_count": null,
   "id": "285da9ca",
   "metadata": {},
   "outputs": [],
   "source": [
    "lista.append(7)"
   ]
  },
  {
   "cell_type": "code",
   "execution_count": null,
   "id": "d3ee6ae7",
   "metadata": {},
   "outputs": [],
   "source": [
    "lista"
   ]
  },
  {
   "cell_type": "code",
   "execution_count": null,
   "id": "60ccff60",
   "metadata": {},
   "outputs": [],
   "source": [
    "L = []\n",
    "cadena = \"texto\"\n",
    "for x in cadena:\n",
    "    L.append(x.upper())"
   ]
  },
  {
   "cell_type": "code",
   "execution_count": null,
   "id": "fded9898",
   "metadata": {},
   "outputs": [],
   "source": [
    "L"
   ]
  },
  {
   "cell_type": "markdown",
   "id": "37b43727",
   "metadata": {},
   "source": [
    "#### Método ```insert```"
   ]
  },
  {
   "cell_type": "markdown",
   "id": "3c93e7d6",
   "metadata": {},
   "source": [
    "Este método inserta un elemento en la lista en el índice indicado. Los elementos localizados a partir de este índice se recorren a la derecha.\n",
    "\n",
    "```\n",
    "<objeto tipo list>.insert(<índice>, <objeto>)\n",
    "```"
   ]
  },
  {
   "cell_type": "markdown",
   "id": "1d368118",
   "metadata": {},
   "source": [
    "##### Ejemplo:"
   ]
  },
  {
   "cell_type": "code",
   "execution_count": null,
   "id": "a5eaae9e",
   "metadata": {},
   "outputs": [],
   "source": [
    "lista= [1, 2, 3, 4, 5, 6]"
   ]
  },
  {
   "cell_type": "code",
   "execution_count": null,
   "id": "46a1df92",
   "metadata": {},
   "outputs": [],
   "source": [
    "lista"
   ]
  },
  {
   "cell_type": "code",
   "execution_count": null,
   "id": "82026310",
   "metadata": {},
   "outputs": [],
   "source": [
    "lista.insert(3, 0)"
   ]
  },
  {
   "cell_type": "code",
   "execution_count": null,
   "id": "95416edc",
   "metadata": {},
   "outputs": [],
   "source": [
    "lista"
   ]
  },
  {
   "cell_type": "markdown",
   "id": "9607af8f",
   "metadata": {},
   "source": [
    "#### Método ```remove()```"
   ]
  },
  {
   "cell_type": "markdown",
   "id": "223bd319",
   "metadata": {},
   "source": [
    "Este método busca de izquierda a derecha el elemento que se ingresa como argumento y elimina el primer elemento que coincida.\n",
    "\n",
    "Si el objeto no se encuentra, genera un erro de tipo ```ValueError```.\n",
    "\n",
    "```\n",
    "<objeto tipo list>.remove(<objeto>)\n",
    "```"
   ]
  },
  {
   "cell_type": "markdown",
   "id": "2865fdff",
   "metadata": {},
   "source": [
    "##### Ejemplos: "
   ]
  },
  {
   "cell_type": "code",
   "execution_count": null,
   "id": "d5188af3",
   "metadata": {},
   "outputs": [],
   "source": [
    "lista = [1, 5, 3, 4, 5, 6, 5, 8, 9, 0]"
   ]
  },
  {
   "cell_type": "code",
   "execution_count": null,
   "id": "df654b70",
   "metadata": {},
   "outputs": [],
   "source": [
    "lista.remove(5)"
   ]
  },
  {
   "cell_type": "code",
   "execution_count": null,
   "id": "4ae20e27",
   "metadata": {},
   "outputs": [],
   "source": [
    "lista"
   ]
  },
  {
   "cell_type": "code",
   "execution_count": null,
   "id": "f824bda6",
   "metadata": {},
   "outputs": [],
   "source": [
    "lista.remove(5)"
   ]
  },
  {
   "cell_type": "code",
   "execution_count": null,
   "id": "16720a21",
   "metadata": {},
   "outputs": [],
   "source": [
    "lista"
   ]
  },
  {
   "cell_type": "code",
   "execution_count": null,
   "id": "f2aabf93",
   "metadata": {},
   "outputs": [],
   "source": [
    "lista.remove(5)"
   ]
  },
  {
   "cell_type": "code",
   "execution_count": null,
   "id": "9eb2e844",
   "metadata": {},
   "outputs": [],
   "source": [
    "lista"
   ]
  },
  {
   "cell_type": "code",
   "execution_count": null,
   "id": "584b21ad",
   "metadata": {},
   "outputs": [],
   "source": [
    "lista.remove(5)"
   ]
  },
  {
   "cell_type": "markdown",
   "id": "0a3f15ce",
   "metadata": {},
   "source": [
    "#### Método ```reverse```"
   ]
  },
  {
   "cell_type": "markdown",
   "id": "fd201cbe",
   "metadata": {},
   "source": [
    "Este método invierte el orden de los elementos en la lista:\n",
    "    \n",
    "    \n",
    "```\n",
    "<objeto tipo list>.reverse()\n",
    "```"
   ]
  },
  {
   "cell_type": "markdown",
   "id": "4fbac529",
   "metadata": {},
   "source": [
    "##### Ejemplo:"
   ]
  },
  {
   "cell_type": "code",
   "execution_count": null,
   "id": "e299a78e",
   "metadata": {},
   "outputs": [],
   "source": [
    "lista = [1, 2, 3, 4, 5]"
   ]
  },
  {
   "cell_type": "code",
   "execution_count": null,
   "id": "d48d6c0e",
   "metadata": {},
   "outputs": [],
   "source": [
    "lista"
   ]
  },
  {
   "cell_type": "code",
   "execution_count": null,
   "id": "482492d1",
   "metadata": {},
   "outputs": [],
   "source": [
    "lista.reverse()"
   ]
  },
  {
   "cell_type": "code",
   "execution_count": null,
   "id": "df5d50ae",
   "metadata": {},
   "outputs": [],
   "source": [
    "lista"
   ]
  },
  {
   "cell_type": "markdown",
   "id": "46ac2408",
   "metadata": {},
   "source": [
    "#### Método ```sort()```"
   ]
  },
  {
   "cell_type": "markdown",
   "id": "d21fa239",
   "metadata": {},
   "source": [
    "Este método ordena, cuando es posible, los elementos de una lista.\n",
    "\n",
    "```\n",
    "<objeto tipo list>.sort(reverse=<booleano>)\n",
    "```\n",
    "\n",
    "* Si se especifica el argumento ```reverse=True``` el ordenamiento se hace de forma descendente. \n",
    "* El valor por defecto es ```reverse=False```.\n",
    "* En caso de que los elementos no sean compatibles, se desencadenará un error de tipo ```TypeError```."
   ]
  },
  {
   "cell_type": "markdown",
   "id": "e2f1f50f",
   "metadata": {},
   "source": [
    "##### Ejemplos:"
   ]
  },
  {
   "cell_type": "code",
   "execution_count": null,
   "id": "4dcf3465",
   "metadata": {},
   "outputs": [],
   "source": [
    "lista = [100, 52, 78,35, 0, 89, 111]"
   ]
  },
  {
   "cell_type": "code",
   "execution_count": null,
   "id": "84f6716c",
   "metadata": {},
   "outputs": [],
   "source": [
    "lista.sort()"
   ]
  },
  {
   "cell_type": "code",
   "execution_count": null,
   "id": "72758e86",
   "metadata": {},
   "outputs": [],
   "source": [
    "lista"
   ]
  },
  {
   "cell_type": "code",
   "execution_count": null,
   "id": "550f3b55",
   "metadata": {},
   "outputs": [],
   "source": [
    "lista.sort(reverse=True)"
   ]
  },
  {
   "cell_type": "code",
   "execution_count": null,
   "id": "223b2a1d",
   "metadata": {},
   "outputs": [],
   "source": [
    "lista"
   ]
  },
  {
   "cell_type": "markdown",
   "id": "ef634e4c",
   "metadata": {},
   "source": [
    "#### Método ```pop```"
   ]
  },
  {
   "cell_type": "markdown",
   "id": "1f0de38c",
   "metadata": {},
   "source": [
    "Este método regresa y elimina al elemento que corresponde al índice que se ingresa como argumento.\n",
    "\n",
    "```\n",
    "<objeto tipo list>.pop(<índice>)\n",
    "```\n",
    "\n",
    "* En caso de que no se ingreser un índice, el método regresará y eliminará al elmentos del extremo derecho del objeto tipo ```list```.\n",
    "\n",
    "* En caso de que el objeto tipo  ```list```esté vacío, se generará un error de tipo ```IndexError```."
   ]
  },
  {
   "cell_type": "markdown",
   "id": "afb8aed5",
   "metadata": {},
   "source": [
    "##### Ejemplos:"
   ]
  },
  {
   "cell_type": "code",
   "execution_count": null,
   "id": "3c82c033",
   "metadata": {},
   "outputs": [],
   "source": [
    "lista = [15, 50, 34, 22, 89, 56]"
   ]
  },
  {
   "cell_type": "code",
   "execution_count": null,
   "id": "58b4ba3f",
   "metadata": {},
   "outputs": [],
   "source": [
    "lista"
   ]
  },
  {
   "cell_type": "code",
   "execution_count": null,
   "id": "5911c3db",
   "metadata": {},
   "outputs": [],
   "source": [
    "lista.pop(1)"
   ]
  },
  {
   "cell_type": "code",
   "execution_count": null,
   "id": "dd93b8e0",
   "metadata": {},
   "outputs": [],
   "source": [
    "lista"
   ]
  },
  {
   "cell_type": "code",
   "execution_count": null,
   "id": "6a397cce",
   "metadata": {},
   "outputs": [],
   "source": [
    "lista.pop()"
   ]
  },
  {
   "cell_type": "code",
   "execution_count": null,
   "id": "6d5926c0",
   "metadata": {},
   "outputs": [],
   "source": [
    "lista"
   ]
  },
  {
   "cell_type": "markdown",
   "id": "92a3734a",
   "metadata": {},
   "source": [
    "#### Método ```extend```"
   ]
  },
  {
   "cell_type": "markdown",
   "id": "ef2ac071",
   "metadata": {},
   "source": [
    "Este método inserta al final de la lista cada uno de los elementos que se ingresan como argumento\n",
    "\n",
    "```\n",
    "<objeto tipo list>.extend(<colección>)\n",
    "```"
   ]
  },
  {
   "cell_type": "markdown",
   "id": "d1cdb56b",
   "metadata": {},
   "source": [
    "##### Ejemplos: "
   ]
  },
  {
   "cell_type": "code",
   "execution_count": null,
   "id": "9db6fb83",
   "metadata": {},
   "outputs": [],
   "source": [
    "lista = [1, 2, 3]"
   ]
  },
  {
   "cell_type": "code",
   "execution_count": null,
   "id": "8d1ef8e1",
   "metadata": {},
   "outputs": [],
   "source": [
    "lista.extend((4, 5))"
   ]
  },
  {
   "cell_type": "code",
   "execution_count": null,
   "id": "eb5bb0d3",
   "metadata": {},
   "outputs": [],
   "source": [
    "lista"
   ]
  },
  {
   "cell_type": "code",
   "execution_count": null,
   "id": "c722b6ff",
   "metadata": {},
   "outputs": [],
   "source": [
    "lista.extend(6)"
   ]
  },
  {
   "cell_type": "code",
   "execution_count": null,
   "id": "922411d8",
   "metadata": {},
   "outputs": [],
   "source": [
    "lista.extend((6, 7, 8))"
   ]
  },
  {
   "cell_type": "code",
   "execution_count": null,
   "id": "45948cb8",
   "metadata": {},
   "outputs": [],
   "source": [
    "lista"
   ]
  },
  {
   "cell_type": "markdown",
   "id": "e66ca76e",
   "metadata": {},
   "source": [
    "#### Método ```clear```"
   ]
  },
  {
   "cell_type": "markdown",
   "id": "4cbc6fc2",
   "metadata": {},
   "source": [
    "Este método elimina todos los elementos de la lista: \n",
    "    \n",
    "```\n",
    "<objeto tipo list>.clear()\n",
    "```"
   ]
  },
  {
   "cell_type": "markdown",
   "id": "16d67fe6",
   "metadata": {},
   "source": [
    "##### Ejemplo:"
   ]
  },
  {
   "cell_type": "code",
   "execution_count": null,
   "id": "65b26a77",
   "metadata": {},
   "outputs": [],
   "source": [
    "lista = [97, 45, 67, 54, 23, 32]"
   ]
  },
  {
   "cell_type": "code",
   "execution_count": null,
   "id": "4449ce0c",
   "metadata": {},
   "outputs": [],
   "source": [
    "lista"
   ]
  },
  {
   "cell_type": "code",
   "execution_count": null,
   "id": "7d7dcb27",
   "metadata": {},
   "outputs": [],
   "source": [
    "lista.clear()"
   ]
  },
  {
   "cell_type": "code",
   "execution_count": null,
   "id": "cb4676b1",
   "metadata": {},
   "outputs": [],
   "source": [
    "lista"
   ]
  },
  {
   "cell_type": "markdown",
   "id": "6ab5e83b",
   "metadata": {},
   "source": [
    "#### Método ```count```"
   ]
  },
  {
   "cell_type": "markdown",
   "id": "6095c987",
   "metadata": {},
   "source": [
    "Este método cuenta el número de veces que aparece un elemento de una lista.\n",
    "\n",
    "\n",
    "```\n",
    "<objeto tipo list>.count(<objeto>)\n",
    "```"
   ]
  },
  {
   "cell_type": "markdown",
   "id": "8907ba5b",
   "metadata": {},
   "source": [
    "##### Ejemplos: "
   ]
  },
  {
   "cell_type": "code",
   "execution_count": null,
   "id": "c3cb3045",
   "metadata": {},
   "outputs": [],
   "source": [
    "lista = [True, False, True, True, False, True, False]"
   ]
  },
  {
   "cell_type": "code",
   "execution_count": null,
   "id": "4b9bd126",
   "metadata": {},
   "outputs": [],
   "source": [
    "lista.count(True)"
   ]
  },
  {
   "cell_type": "code",
   "execution_count": null,
   "id": "acc25e43",
   "metadata": {},
   "outputs": [],
   "source": [
    "lista.count(False)"
   ]
  },
  {
   "cell_type": "markdown",
   "id": "99abeeca",
   "metadata": {},
   "source": [
    "#### Método ```index```"
   ]
  },
  {
   "cell_type": "markdown",
   "id": "1691c93f",
   "metadata": {},
   "source": [
    "este método hace una búsqueda de izquierda a derecha de un elemento dentro de un rango especificado, si lo encuentra regresa el índice en el que se encuentra.\n",
    "\n",
    "\n",
    "```\n",
    "<objeto tipo list>.index(<objeto>, m, n)\n",
    "```\n",
    "\n",
    "Donde:\n",
    "\n",
    "* ```m``` es el índice menor.\n",
    "* ```n``` es el índice mayor.\n",
    "\n",
    "* La búsqueda se realizará desde el índice ```m``` hasta uno antes de ```n```.\n",
    "* El valor de ```n```puede ser superior al del tamaño del objeto tipo ```list```.\n",
    "* Si sólo se ingresa ```m```, la búsqueda se realizará desde el íncide ```m``` hasta el final del objeto tipo ```list```.\n",
    "* En caso de no definir un rango, la búsqueda se realizará en el objeto completo.\n",
    "* En caso de no encontrar una coincidencia en el rango detrerminado, se generará un error tipo ```ValueError```. "
   ]
  },
  {
   "cell_type": "markdown",
   "id": "2b0f1ace",
   "metadata": {},
   "source": [
    "##### Ejemplos:"
   ]
  },
  {
   "cell_type": "code",
   "execution_count": null,
   "id": "a95742e7",
   "metadata": {},
   "outputs": [],
   "source": [
    "lista = [89, 23, 85, 69, 75, 98, 100]"
   ]
  },
  {
   "cell_type": "code",
   "execution_count": null,
   "id": "007c9e01",
   "metadata": {},
   "outputs": [],
   "source": [
    "len(lista)"
   ]
  },
  {
   "cell_type": "code",
   "execution_count": null,
   "id": "546a15e2",
   "metadata": {},
   "outputs": [],
   "source": [
    "lista.index(85)"
   ]
  },
  {
   "cell_type": "code",
   "execution_count": null,
   "id": "963a9bec",
   "metadata": {},
   "outputs": [],
   "source": [
    "lista.index(85, 2)"
   ]
  },
  {
   "cell_type": "code",
   "execution_count": null,
   "id": "36058c07",
   "metadata": {},
   "outputs": [],
   "source": [
    "lista.index(85, 0, 4)"
   ]
  },
  {
   "cell_type": "markdown",
   "id": "17ab4cad",
   "metadata": {},
   "source": [
    "### Listas anidadas"
   ]
  },
  {
   "cell_type": "code",
   "execution_count": null,
   "id": "db523b3c",
   "metadata": {},
   "outputs": [],
   "source": []
  },
  {
   "cell_type": "markdown",
   "id": "9b90d76c",
   "metadata": {},
   "source": [
    "## 3.2 Estructuras de Datos Heterogéneas"
   ]
  },
  {
   "cell_type": "markdown",
   "id": "fca3b614",
   "metadata": {},
   "source": [
    "## 3.3 Estructuras de Datos Asociativas"
   ]
  },
  {
   "cell_type": "markdown",
   "id": "05969b16",
   "metadata": {},
   "source": [
    "### Definición"
   ]
  },
  {
   "cell_type": "markdown",
   "id": "6a388aa2",
   "metadata": {},
   "source": [
    "Un conjunto es una colección no ordenada de elementos únicos. Se utilizan para realizar operaciones de conjuntos.\n"
   ]
  },
  {
   "cell_type": "markdown",
   "id": "f14234b7",
   "metadata": {},
   "source": [
    "### Ejemplo"
   ]
  },
  {
   "cell_type": "code",
   "execution_count": null,
   "id": "c9000292",
   "metadata": {},
   "outputs": [],
   "source": [
    "# Crear conjuntos\n",
    "frutas = {'mango', 'fresa', 'naranja'}\n",
    "frutas2 = {'kiwi', 'pera', 'fresa'}"
   ]
  },
  {
   "cell_type": "markdown",
   "id": "52a21f7d",
   "metadata": {},
   "source": [
    "### Métodos de conjuntos"
   ]
  },
  {
   "cell_type": "markdown",
   "id": "232a2ea4",
   "metadata": {},
   "source": [
    "#### union()"
   ]
  },
  {
   "cell_type": "markdown",
   "id": "20ee0e54",
   "metadata": {},
   "source": [
    "Devuelve la unión de dos conjuntos."
   ]
  },
  {
   "cell_type": "markdown",
   "id": "bc69fd62",
   "metadata": {},
   "source": [
    "#### intersection()"
   ]
  },
  {
   "cell_type": "markdown",
   "id": "b8f01485",
   "metadata": {},
   "source": [
    "Devuelve la intersección de dos conjuntos."
   ]
  },
  {
   "cell_type": "markdown",
   "id": "8c2eee3b",
   "metadata": {},
   "source": [
    "#### difference()"
   ]
  },
  {
   "cell_type": "markdown",
   "id": "620adba4",
   "metadata": {},
   "source": [
    " Devuelve la diferencia entre dos conjuntos."
   ]
  },
  {
   "cell_type": "markdown",
   "id": "b27f0fe2",
   "metadata": {},
   "source": [
    "#### add()"
   ]
  },
  {
   "cell_type": "markdown",
   "id": "3f3e77e5",
   "metadata": {},
   "source": [
    "Agrega un elemento al conjunto."
   ]
  },
  {
   "cell_type": "markdown",
   "id": "221fa698",
   "metadata": {},
   "source": [
    "#### remove()"
   ]
  },
  {
   "cell_type": "markdown",
   "id": "563a2fa8",
   "metadata": {},
   "source": [
    "Elimina un elemento del conjunto (genera un error si no existe)."
   ]
  },
  {
   "cell_type": "markdown",
   "id": "352ff7ce",
   "metadata": {},
   "source": [
    "#### discard()"
   ]
  },
  {
   "cell_type": "markdown",
   "id": "dc10809a",
   "metadata": {},
   "source": [
    "Elimina un elemento del conjunto (sin error si no existe)."
   ]
  },
  {
   "cell_type": "markdown",
   "id": "92cb47d0",
   "metadata": {},
   "source": [
    "### Ejemplo 2"
   ]
  },
  {
   "cell_type": "code",
   "execution_count": null,
   "id": "52fc13b5",
   "metadata": {},
   "outputs": [],
   "source": [
    "#ejemplos métodos\n",
    "\n",
    "union = frutas.union(frutas2)\n",
    "interseccion = frutas.intersection(frutas2)\n",
    "diferencia = frutas.difference(frutas2)"
   ]
  },
  {
   "cell_type": "code",
   "execution_count": null,
   "id": "da4dd123",
   "metadata": {},
   "outputs": [],
   "source": [
    "diferencia\n"
   ]
  },
  {
   "cell_type": "markdown",
   "id": "d5535514",
   "metadata": {},
   "source": [
    "### Ejercicio 1"
   ]
  },
  {
   "cell_type": "markdown",
   "id": "a5ee97cb",
   "metadata": {},
   "source": [
    "- Crea un conjunto con tus colores favoritos.\n",
    "- Crea un conjunto con los colores favoritos de un(a) compañero(a).\n",
    "- Realiza la unión, intersección y diferencia de dos conjuntos diferentes."
   ]
  },
  {
   "cell_type": "markdown",
   "id": "704210c4",
   "metadata": {},
   "source": [
    "### Ejercicio 2"
   ]
  },
  {
   "cell_type": "markdown",
   "id": "b12783e6",
   "metadata": {},
   "source": [
    "- Crear un conjunto de tuplas que contenga información de la materia de programación (Nombre, Matrícula, calificación).\n",
    "- Crear un conjunto de tuplas que contenga información de una materia extracurricular (Nombre, Matrícula, calificación).\n",
    "- Realizar los métodos intersection() y difference()\n",
    "- Agregar un elemento a cada conjunto.\n",
    "- Remover un elemento a cada conjunto."
   ]
  },
  {
   "cell_type": "markdown",
   "id": "ea04f4b8",
   "metadata": {},
   "source": [
    "### Actividad "
   ]
  },
  {
   "cell_type": "markdown",
   "id": "b908c44e",
   "metadata": {},
   "source": [
    "Realizar una comparación entre las diferentes estructuras vistas en esta unidad. Realizar una infografía para mostrar la comparación."
   ]
  },
  {
   "cell_type": "markdown",
   "id": "eb0ae815",
   "metadata": {},
   "source": [
    "## Resumen de unidad"
   ]
  },
  {
   "cell_type": "markdown",
   "id": "12653c15",
   "metadata": {},
   "source": [
    "### Listas"
   ]
  },
  {
   "cell_type": "markdown",
   "id": "2077ce77",
   "metadata": {},
   "source": [
    "- Homogéneas y heterogéneas: Pueden contener elementos del mismo tipo (homogéneas) o elementos de diferentes tipos (heterogéneas).\n",
    "- Ordenadas y modificables: Mantienen el orden de los elementos y se pueden modificar (agregar, eliminar, modificar elementos).\n"
   ]
  },
  {
   "cell_type": "markdown",
   "id": "62d964ed",
   "metadata": {},
   "source": [
    "### Diccionarios"
   ]
  },
  {
   "cell_type": "markdown",
   "id": "b578ac26",
   "metadata": {},
   "source": [
    "- Heterogéneos: Pueden contener valores de diferentes tipos.\n",
    "- Asociativos: Almacenan datos en pares clave-valor, proporcionando una forma eficiente de buscar y recuperar información.\n",
    "- No ordenados: No mantienen un orden específico de los elementos.\n"
   ]
  },
  {
   "cell_type": "markdown",
   "id": "edb1db76",
   "metadata": {},
   "source": [
    "### Tuplas"
   ]
  },
  {
   "cell_type": "markdown",
   "id": "b9d4fe10",
   "metadata": {},
   "source": [
    "- Heterogéneas: Pueden contener elementos de diferentes tipos.\n",
    "- Inmutables y ordenadas: Una vez creadas, no se pueden modificar, y mantienen el orden de los elementos."
   ]
  },
  {
   "cell_type": "markdown",
   "id": "e983f60e",
   "metadata": {},
   "source": [
    "### Conjuntos"
   ]
  },
  {
   "cell_type": "markdown",
   "id": "2d51f37d",
   "metadata": {},
   "source": [
    "- Asociativos: Almacenan elementos únicos sin una relación explícita de clave-valor.\n",
    "- Elementos únicos y no ordenados: No permiten duplicados y no mantienen un orden específico de los elementos."
   ]
  }
 ],
 "metadata": {
  "kernelspec": {
   "display_name": "Python 3 (ipykernel)",
   "language": "python",
   "name": "python3"
  },
  "language_info": {
   "codemirror_mode": {
    "name": "ipython",
    "version": 3
   },
   "file_extension": ".py",
   "mimetype": "text/x-python",
   "name": "python",
   "nbconvert_exporter": "python",
   "pygments_lexer": "ipython3",
   "version": "3.11.4"
  }
 },
 "nbformat": 4,
 "nbformat_minor": 5
}
