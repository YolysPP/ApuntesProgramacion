{
 "cells": [
  {
   "cell_type": "markdown",
   "id": "fa450918",
   "metadata": {},
   "source": [
    "# 3. Estructuras de Datos"
   ]
  },
  {
   "cell_type": "markdown",
   "id": "7d06db58",
   "metadata": {},
   "source": [
    "## Objetivo"
   ]
  },
  {
   "cell_type": "markdown",
   "id": "13c44f2d",
   "metadata": {},
   "source": [
    "Utiliza estructuras de datos homogéneas, heterógenas y asociativas para resolver problemas que involucren el almacenamiento, extracción y búsqueda de datos. "
   ]
  },
  {
   "cell_type": "markdown",
   "id": "025226b4",
   "metadata": {},
   "source": [
    "## 3.1 Estructuras de datos homogéneas"
   ]
  },
  {
   "cell_type": "markdown",
   "id": "506d9d14",
   "metadata": {},
   "source": [
    "Una estructura de datos homogénea es una colección ordenada de elementos que son del mismo tipo de datos. En Python, se pueden utilizar listas para crear y manipular colecciones de datos que contienen elementos del mismo tipo (int, str, float, etc)."
   ]
  },
  {
   "cell_type": "markdown",
   "id": "375bc84e",
   "metadata": {},
   "source": [
    "### Almacenamiento de datos en Memoria"
   ]
  },
  {
   "cell_type": "markdown",
   "id": "f40f1ea6",
   "metadata": {},
   "source": [
    "En la memoria de la computadora, una lista se almacena como una secuencia de ubicaciones contiguas en memoria. Cada ubicación en memoria guarda un elemento de la lista."
   ]
  },
  {
   "cell_type": "markdown",
   "id": "e9adfeed",
   "metadata": {},
   "source": [
    "Python asigna el espacio en memoria para esa lista y guarda los elementos uno tras otro en las posiciones reservadas. Para acceder a cada elemento específico, se puede hacer uso de su índice, sin olvidar que la indexación empieza en cero."
   ]
  },
  {
   "attachments": {
    "Indice_Lista-3.png": {
     "image/png": "[encoded data removed]"
    }
   },
   "cell_type": "markdown",
   "id": "3b0433f7",
   "metadata": {},
   "source": [
    "![Indice_Lista-3.png](attachment:Indice_Lista-3.png)"
   ]
  },
  {
   "cell_type": "markdown",
   "id": "fd9193bc",
   "metadata": {},
   "source": [
    "### Declaración de una lista"
   ]
  },
  {
   "cell_type": "markdown",
   "id": "fa30acf8",
   "metadata": {},
   "source": [
    "En Python, una lista se declara utilizando corchetes [] y separando los elementos con comas. Por ejemplo:"
   ]
  },
  {
   "cell_type": "code",
   "execution_count": 1,
   "id": "d6c6173b",
   "metadata": {},
   "outputs": [],
   "source": [
    "mi_lista = [1, 2, 3, 4, 5]"
   ]
  },
  {
   "cell_type": "markdown",
   "id": "b5324b13",
   "metadata": {},
   "source": [
    "Una lista se puede declarar vacía de la siguiente forma:"
   ]
  },
  {
   "cell_type": "code",
   "execution_count": 2,
   "id": "d727bac4",
   "metadata": {},
   "outputs": [],
   "source": [
    "mi_lista = []"
   ]
  },
  {
   "cell_type": "markdown",
   "id": "2021610e",
   "metadata": {},
   "source": [
    "### Modificación de un elemento en una lista"
   ]
  },
  {
   "cell_type": "markdown",
   "id": "940a5f83",
   "metadata": {},
   "source": [
    "Para modificar el contenido de una posición de la lista, se usa el operador asignación ```=```"
   ]
  },
  {
   "cell_type": "markdown",
   "id": "5aa84895",
   "metadata": {},
   "source": [
    "#### Ejemplos"
   ]
  },
  {
   "cell_type": "code",
   "execution_count": 6,
   "id": "21a527e8",
   "metadata": {},
   "outputs": [],
   "source": [
    "lista = [1, 2, 3, 4, 5, 6, 7]"
   ]
  },
  {
   "cell_type": "code",
   "execution_count": 7,
   "id": "7668dd98",
   "metadata": {},
   "outputs": [],
   "source": [
    "lista[4] = 10"
   ]
  },
  {
   "cell_type": "code",
   "execution_count": 8,
   "id": "5747c6b8",
   "metadata": {},
   "outputs": [
    {
     "data": {
      "text/plain": [
       "[1, 2, 3, 4, 10, 6, 7]"
      ]
     },
     "execution_count": 8,
     "metadata": {},
     "output_type": "execute_result"
    }
   ],
   "source": [
    "lista"
   ]
  },
  {
   "cell_type": "code",
   "execution_count": 13,
   "id": "ef00f657",
   "metadata": {},
   "outputs": [],
   "source": [
    "lista_cadena = [\"Hola\", \" a \", \" todos\"]"
   ]
  },
  {
   "cell_type": "code",
   "execution_count": 14,
   "id": "bc55efa6",
   "metadata": {},
   "outputs": [],
   "source": [
    "lista_cadena[1] = \"para\""
   ]
  },
  {
   "cell_type": "code",
   "execution_count": 15,
   "id": "c0adc815",
   "metadata": {},
   "outputs": [
    {
     "data": {
      "text/plain": [
       "['Hola', 'para', ' todos']"
      ]
     },
     "execution_count": 15,
     "metadata": {},
     "output_type": "execute_result"
    }
   ],
   "source": [
    "lista_cadena\n"
   ]
  },
  {
   "cell_type": "markdown",
   "id": "5068f370",
   "metadata": {},
   "source": [
    "### Eliminanción de un objeto en una lista"
   ]
  },
  {
   "cell_type": "markdown",
   "id": "a11b0d18",
   "metadata": {},
   "source": [
    "Para eliminar un elemento de una lista se usa la declaración ```del```. El elemento identificado mediante su posición será eliminado y en caso de que existan, se recorrerá el índice de los elementos a la derecha del elemento eliminado."
   ]
  },
  {
   "cell_type": "markdown",
   "id": "2fa5138d",
   "metadata": {},
   "source": [
    "La sintaxis es la siguiente:  "
   ]
  },
  {
   "cell_type": "markdown",
   "id": "b44ada69",
   "metadata": {},
   "source": [
    "```\n",
    "del <objeto tipo list>[<posición>]\n",
    "```"
   ]
  },
  {
   "cell_type": "markdown",
   "id": "4f0daee9",
   "metadata": {},
   "source": [
    "#### Ejemplos:"
   ]
  },
  {
   "cell_type": "code",
   "execution_count": 22,
   "id": "b914f960",
   "metadata": {},
   "outputs": [],
   "source": [
    "lista = [1, 2, 3, 4, 5]"
   ]
  },
  {
   "cell_type": "code",
   "execution_count": 23,
   "id": "e23165ce",
   "metadata": {},
   "outputs": [
    {
     "data": {
      "text/plain": [
       "[1, 2, 3, 4, 5]"
      ]
     },
     "execution_count": 23,
     "metadata": {},
     "output_type": "execute_result"
    }
   ],
   "source": [
    "lista"
   ]
  },
  {
   "cell_type": "code",
   "execution_count": 24,
   "id": "78ea5c2f",
   "metadata": {},
   "outputs": [
    {
     "data": {
      "text/plain": [
       "4"
      ]
     },
     "execution_count": 24,
     "metadata": {},
     "output_type": "execute_result"
    }
   ],
   "source": [
    "lista[3]"
   ]
  },
  {
   "cell_type": "code",
   "execution_count": 25,
   "id": "03b511da",
   "metadata": {},
   "outputs": [],
   "source": [
    "del lista[3]"
   ]
  },
  {
   "cell_type": "code",
   "execution_count": 26,
   "id": "89ade76d",
   "metadata": {},
   "outputs": [
    {
     "data": {
      "text/plain": [
       "[1, 2, 3, 5]"
      ]
     },
     "execution_count": 26,
     "metadata": {},
     "output_type": "execute_result"
    }
   ],
   "source": [
    "lista"
   ]
  },
  {
   "cell_type": "code",
   "execution_count": 27,
   "id": "2db3c980",
   "metadata": {},
   "outputs": [
    {
     "data": {
      "text/plain": [
       "5"
      ]
     },
     "execution_count": 27,
     "metadata": {},
     "output_type": "execute_result"
    }
   ],
   "source": [
    "lista[3]"
   ]
  },
  {
   "cell_type": "markdown",
   "id": "8cc8fd10",
   "metadata": {},
   "source": [
    "### Eliminación de un rango de elementos en una lista"
   ]
  },
  {
   "cell_type": "markdown",
   "id": "7563a949",
   "metadata": {},
   "source": [
    "Para eliminar un rango de elementos de una lista se usa la declaración ```del```con la siguiente sintaxis:"
   ]
  },
  {
   "cell_type": "markdown",
   "id": "f036129b",
   "metadata": {},
   "source": [
    "```\n",
    "del <objeto tipo list>[m:n]\n",
    "```"
   ]
  },
  {
   "cell_type": "markdown",
   "id": "873d11e9",
   "metadata": {},
   "source": [
    "En dónde:"
   ]
  },
  {
   "cell_type": "markdown",
   "id": "236b7647",
   "metadata": {},
   "source": [
    "* ```m``` es el índice inferior del rango.\n",
    "* ```n``` es el índice superior del rango."
   ]
  },
  {
   "cell_type": "markdown",
   "id": "c4528ae2",
   "metadata": {},
   "source": [
    "\n",
    "Esto eliminará los elementos en el rango que va de ```m``` hasta uno antes de ```n```."
   ]
  },
  {
   "cell_type": "markdown",
   "id": "7e97ed1b",
   "metadata": {},
   "source": [
    "#### Ejemplos: "
   ]
  },
  {
   "cell_type": "code",
   "execution_count": 29,
   "id": "c25559a3",
   "metadata": {},
   "outputs": [],
   "source": [
    "lista = [10, 20, 30, 40, 50, 60, 70, 80, 90, 100]"
   ]
  },
  {
   "cell_type": "code",
   "execution_count": 30,
   "id": "15374935",
   "metadata": {},
   "outputs": [
    {
     "data": {
      "text/plain": [
       "[10, 20, 30, 40, 50, 60, 70, 80, 90, 100]"
      ]
     },
     "execution_count": 30,
     "metadata": {},
     "output_type": "execute_result"
    }
   ],
   "source": [
    "lista"
   ]
  },
  {
   "cell_type": "code",
   "execution_count": 31,
   "id": "bfb11e0d",
   "metadata": {},
   "outputs": [],
   "source": [
    "del lista[-3:-1]"
   ]
  },
  {
   "cell_type": "code",
   "execution_count": 32,
   "id": "7eb1239d",
   "metadata": {},
   "outputs": [
    {
     "data": {
      "text/plain": [
       "[10, 20, 30, 40, 50, 60, 70, 100]"
      ]
     },
     "execution_count": 32,
     "metadata": {},
     "output_type": "execute_result"
    }
   ],
   "source": [
    "lista"
   ]
  },
  {
   "cell_type": "code",
   "execution_count": 33,
   "id": "dfc93933",
   "metadata": {},
   "outputs": [],
   "source": [
    "del lista[1:4]"
   ]
  },
  {
   "cell_type": "code",
   "execution_count": 34,
   "id": "9602cc5e",
   "metadata": {},
   "outputs": [
    {
     "data": {
      "text/plain": [
       "[10, 50, 60, 70, 100]"
      ]
     },
     "execution_count": 34,
     "metadata": {},
     "output_type": "execute_result"
    }
   ],
   "source": [
    "lista"
   ]
  },
  {
   "cell_type": "markdown",
   "id": "9bd2b65c",
   "metadata": {},
   "source": [
    "### Extracción de sublistas"
   ]
  },
  {
   "cell_type": "markdown",
   "id": "06373cb5",
   "metadata": {},
   "source": [
    "Para extraer una sublista, se recomienda crear una nueva variable para almacenar un rango de una lista. "
   ]
  },
  {
   "cell_type": "markdown",
   "id": "91bab0c3",
   "metadata": {},
   "source": [
    "#### Ejemplo"
   ]
  },
  {
   "cell_type": "code",
   "execution_count": 35,
   "id": "c4faa782",
   "metadata": {},
   "outputs": [],
   "source": [
    "lista = [\"nombre1\", \"apellido1\",\"calificacion1\", \"nombre2\", \"apellido2\", \"calificacion2\"]"
   ]
  },
  {
   "cell_type": "code",
   "execution_count": 36,
   "id": "4e143d72",
   "metadata": {},
   "outputs": [
    {
     "data": {
      "text/plain": [
       "['nombre1',\n",
       " 'apellido1',\n",
       " 'calificacion1',\n",
       " 'nombre2',\n",
       " 'apellido2',\n",
       " 'calificacion2']"
      ]
     },
     "execution_count": 36,
     "metadata": {},
     "output_type": "execute_result"
    }
   ],
   "source": [
    "lista"
   ]
  },
  {
   "cell_type": "code",
   "execution_count": 38,
   "id": "f06e4787",
   "metadata": {},
   "outputs": [
    {
     "data": {
      "text/plain": [
       "['nombre1', 'apellido1', 'calificacion1']"
      ]
     },
     "execution_count": 38,
     "metadata": {},
     "output_type": "execute_result"
    }
   ],
   "source": [
    "sublista = lista[0:3]\n",
    "sublista"
   ]
  },
  {
   "cell_type": "markdown",
   "id": "cfd85611",
   "metadata": {},
   "source": [
    "### Sustitución de un rango de elementos en una lista"
   ]
  },
  {
   "cell_type": "markdown",
   "id": "57be4101",
   "metadata": {},
   "source": [
    "Es posible sustituir uno o varios objetos definidos en un rango de índices dentro una lista usando la siguiente sintaxis:"
   ]
  },
  {
   "cell_type": "markdown",
   "id": "734b647a",
   "metadata": {},
   "source": [
    "```\n",
    "<objeto tipo list>[m:n] = <objeto 1>, <objeto 2>, ..., <objeto m-n>\n",
    "\n",
    "```\n",
    "\n",
    "En donde: \n",
    "\n",
    "* ```m``` es el índice inferior del rango.\n",
    "* ```n``` es el índice superior del rango.\n",
    "\n",
    "* Si el número de objetos a sustituir es menor que el rango definido, los objetos que no cuenten con un sustituto serán eliminados.\n",
    "* Si el numero de objetos a sustituir es mayor que el rango definido, los objetos adicionales se insertarán y desplazarán al resto a la derecha."
   ]
  },
  {
   "cell_type": "markdown",
   "id": "c860ed04",
   "metadata": {},
   "source": [
    "#### Ejemplos:"
   ]
  },
  {
   "cell_type": "code",
   "execution_count": 39,
   "id": "a5764d31",
   "metadata": {},
   "outputs": [],
   "source": [
    "lista = [1, 2, 3, 4, 5, 6, 7, 8, 9, 10]"
   ]
  },
  {
   "cell_type": "code",
   "execution_count": 40,
   "id": "27d52be3",
   "metadata": {},
   "outputs": [
    {
     "data": {
      "text/plain": [
       "[1, 2, 3, 4, 5, 6, 7, 8, 9, 10]"
      ]
     },
     "execution_count": 40,
     "metadata": {},
     "output_type": "execute_result"
    }
   ],
   "source": [
    "lista"
   ]
  },
  {
   "cell_type": "code",
   "execution_count": 41,
   "id": "e2d2b164",
   "metadata": {},
   "outputs": [],
   "source": [
    "lista[2:5] = [30, 40, 50]"
   ]
  },
  {
   "cell_type": "code",
   "execution_count": 42,
   "id": "16cbf7ce",
   "metadata": {},
   "outputs": [
    {
     "data": {
      "text/plain": [
       "[1, 2, 30, 40, 50, 6, 7, 8, 9, 10]"
      ]
     },
     "execution_count": 42,
     "metadata": {},
     "output_type": "execute_result"
    }
   ],
   "source": [
    "lista"
   ]
  },
  {
   "cell_type": "code",
   "execution_count": 43,
   "id": "b3169b1d",
   "metadata": {},
   "outputs": [
    {
     "data": {
      "text/plain": [
       "[6, 7, 8, 9, 10]"
      ]
     },
     "execution_count": 43,
     "metadata": {},
     "output_type": "execute_result"
    }
   ],
   "source": [
    "lista[5:]"
   ]
  },
  {
   "cell_type": "code",
   "execution_count": 44,
   "id": "80810a4b",
   "metadata": {},
   "outputs": [],
   "source": [
    "lista[5:] = 60, 70"
   ]
  },
  {
   "cell_type": "code",
   "execution_count": 45,
   "id": "93aba974",
   "metadata": {},
   "outputs": [
    {
     "data": {
      "text/plain": [
       "[1, 2, 30, 40, 50, 60, 70]"
      ]
     },
     "execution_count": 45,
     "metadata": {},
     "output_type": "execute_result"
    }
   ],
   "source": [
    "lista"
   ]
  },
  {
   "cell_type": "code",
   "execution_count": 46,
   "id": "e9ff019e",
   "metadata": {},
   "outputs": [
    {
     "data": {
      "text/plain": [
       "[60, 70]"
      ]
     },
     "execution_count": 46,
     "metadata": {},
     "output_type": "execute_result"
    }
   ],
   "source": [
    "lista[5:]"
   ]
  },
  {
   "cell_type": "markdown",
   "id": "114871fa",
   "metadata": {},
   "source": [
    "### Métodos de las listas"
   ]
  },
  {
   "cell_type": "markdown",
   "id": "bbac0a53",
   "metadata": {},
   "source": [
    "#### Método ```Append()```"
   ]
  },
  {
   "cell_type": "markdown",
   "id": "8e2e9460",
   "metadata": {},
   "source": [
    "Este método agrega al final de la lista, el elementoque se ingresa como argumento\n",
    "\n",
    "```\n",
    "<objeto tipo list>.append(<objeto>)\n",
    "```"
   ]
  },
  {
   "cell_type": "markdown",
   "id": "62826d0c",
   "metadata": {},
   "source": [
    "##### Ejemplo:"
   ]
  },
  {
   "cell_type": "code",
   "execution_count": 47,
   "id": "e640eb55",
   "metadata": {},
   "outputs": [],
   "source": [
    "lista = [1, 2, 3, 4, 5, 6]"
   ]
  },
  {
   "cell_type": "code",
   "execution_count": 48,
   "id": "285da9ca",
   "metadata": {},
   "outputs": [],
   "source": [
    "lista.append(7)"
   ]
  },
  {
   "cell_type": "code",
   "execution_count": 49,
   "id": "d3ee6ae7",
   "metadata": {},
   "outputs": [
    {
     "data": {
      "text/plain": [
       "[1, 2, 3, 4, 5, 6, 7]"
      ]
     },
     "execution_count": 49,
     "metadata": {},
     "output_type": "execute_result"
    }
   ],
   "source": [
    "lista"
   ]
  },
  {
   "cell_type": "code",
   "execution_count": 54,
   "id": "60ccff60",
   "metadata": {},
   "outputs": [],
   "source": [
    "L = []\n",
    "cadena = \"texto\"\n",
    "for x in cadena:\n",
    "    L.append(x.upper())"
   ]
  },
  {
   "cell_type": "code",
   "execution_count": 55,
   "id": "fded9898",
   "metadata": {},
   "outputs": [
    {
     "data": {
      "text/plain": [
       "['T', 'E', 'X', 'T', 'O']"
      ]
     },
     "execution_count": 55,
     "metadata": {},
     "output_type": "execute_result"
    }
   ],
   "source": [
    "L"
   ]
  },
  {
   "cell_type": "markdown",
   "id": "37b43727",
   "metadata": {},
   "source": [
    "#### Método ```insert```"
   ]
  },
  {
   "cell_type": "markdown",
   "id": "3c93e7d6",
   "metadata": {},
   "source": [
    "Este método inserta un elemento en la lista en el índice indicado. Los elementos localizados a partir de este índice se recorren a la derecha.\n",
    "\n",
    "```\n",
    "<objeto tipo list>.insert(<índice>, <objeto>)\n",
    "```"
   ]
  },
  {
   "cell_type": "markdown",
   "id": "1d368118",
   "metadata": {},
   "source": [
    "##### Ejemplo:"
   ]
  },
  {
   "cell_type": "code",
   "execution_count": 56,
   "id": "a5eaae9e",
   "metadata": {},
   "outputs": [],
   "source": [
    "lista= [1, 2, 3, 4, 5, 6]"
   ]
  },
  {
   "cell_type": "code",
   "execution_count": 57,
   "id": "46a1df92",
   "metadata": {},
   "outputs": [
    {
     "data": {
      "text/plain": [
       "[1, 2, 3, 4, 5, 6]"
      ]
     },
     "execution_count": 57,
     "metadata": {},
     "output_type": "execute_result"
    }
   ],
   "source": [
    "lista"
   ]
  },
  {
   "cell_type": "code",
   "execution_count": 58,
   "id": "82026310",
   "metadata": {},
   "outputs": [],
   "source": [
    "lista.insert(3, 0)"
   ]
  },
  {
   "cell_type": "code",
   "execution_count": 59,
   "id": "95416edc",
   "metadata": {},
   "outputs": [
    {
     "data": {
      "text/plain": [
       "[1, 2, 3, 0, 4, 5, 6]"
      ]
     },
     "execution_count": 59,
     "metadata": {},
     "output_type": "execute_result"
    }
   ],
   "source": [
    "lista"
   ]
  },
  {
   "cell_type": "markdown",
   "id": "9607af8f",
   "metadata": {},
   "source": [
    "#### Método ```remove()```"
   ]
  },
  {
   "cell_type": "markdown",
   "id": "223bd319",
   "metadata": {},
   "source": [
    "Este método busca de izquierda a derecha el elemento que se ingresa como argumento y elimina el primer elemento que coincida.\n",
    "\n",
    "Si el objeto no se encuentra, genera un erro de tipo ```ValueError```.\n",
    "\n",
    "```\n",
    "<objeto tipo list>.remove(<objeto>)\n",
    "```"
   ]
  },
  {
   "cell_type": "markdown",
   "id": "2865fdff",
   "metadata": {},
   "source": [
    "##### Ejemplos: "
   ]
  },
  {
   "cell_type": "code",
   "execution_count": 64,
   "id": "d5188af3",
   "metadata": {},
   "outputs": [],
   "source": [
    "lista = [1, 5, 3, 4, 5, 6, 5, 8, 9, 0]"
   ]
  },
  {
   "cell_type": "code",
   "execution_count": 65,
   "id": "df654b70",
   "metadata": {},
   "outputs": [],
   "source": [
    "lista.remove(5)"
   ]
  },
  {
   "cell_type": "code",
   "execution_count": 66,
   "id": "4ae20e27",
   "metadata": {},
   "outputs": [
    {
     "data": {
      "text/plain": [
       "[1, 3, 4, 5, 6, 5, 8, 9, 0]"
      ]
     },
     "execution_count": 66,
     "metadata": {},
     "output_type": "execute_result"
    }
   ],
   "source": [
    "lista"
   ]
  },
  {
   "cell_type": "code",
   "execution_count": 67,
   "id": "f824bda6",
   "metadata": {},
   "outputs": [],
   "source": [
    "lista.remove(5)"
   ]
  },
  {
   "cell_type": "code",
   "execution_count": 68,
   "id": "16720a21",
   "metadata": {},
   "outputs": [
    {
     "data": {
      "text/plain": [
       "[1, 3, 4, 6, 5, 8, 9, 0]"
      ]
     },
     "execution_count": 68,
     "metadata": {},
     "output_type": "execute_result"
    }
   ],
   "source": [
    "lista"
   ]
  },
  {
   "cell_type": "code",
   "execution_count": 69,
   "id": "f2aabf93",
   "metadata": {},
   "outputs": [],
   "source": [
    "lista.remove(5)"
   ]
  },
  {
   "cell_type": "code",
   "execution_count": 70,
   "id": "9eb2e844",
   "metadata": {},
   "outputs": [
    {
     "data": {
      "text/plain": [
       "[1, 3, 4, 6, 8, 9, 0]"
      ]
     },
     "execution_count": 70,
     "metadata": {},
     "output_type": "execute_result"
    }
   ],
   "source": [
    "lista"
   ]
  },
  {
   "cell_type": "code",
   "execution_count": 71,
   "id": "584b21ad",
   "metadata": {},
   "outputs": [
    {
     "ename": "ValueError",
     "evalue": "list.remove(x): x not in list",
     "output_type": "error",
     "traceback": [
      "\u001b[1;31m---------------------------------------------------------------------------\u001b[0m",
      "\u001b[1;31mValueError\u001b[0m                                Traceback (most recent call last)",
      "Cell \u001b[1;32mIn[71], line 1\u001b[0m\n\u001b[1;32m----> 1\u001b[0m lista\u001b[38;5;241m.\u001b[39mremove(\u001b[38;5;241m5\u001b[39m)\n",
      "\u001b[1;31mValueError\u001b[0m: list.remove(x): x not in list"
     ]
    }
   ],
   "source": [
    "lista.remove(5)"
   ]
  },
  {
   "cell_type": "markdown",
   "id": "0a3f15ce",
   "metadata": {},
   "source": [
    "#### Método ```reverse```"
   ]
  },
  {
   "cell_type": "markdown",
   "id": "fd201cbe",
   "metadata": {},
   "source": [
    "Este método invierte el orden de los elementos en la lista:\n",
    "    \n",
    "    \n",
    "```\n",
    "<objeto tipo list>.reverse()\n",
    "```"
   ]
  },
  {
   "cell_type": "markdown",
   "id": "4fbac529",
   "metadata": {},
   "source": [
    "##### Ejemplo:"
   ]
  },
  {
   "cell_type": "code",
   "execution_count": 73,
   "id": "e299a78e",
   "metadata": {},
   "outputs": [],
   "source": [
    "lista = [1, 2, 3, 4, 5]"
   ]
  },
  {
   "cell_type": "code",
   "execution_count": 74,
   "id": "d48d6c0e",
   "metadata": {},
   "outputs": [
    {
     "data": {
      "text/plain": [
       "[1, 2, 3, 4, 5]"
      ]
     },
     "execution_count": 74,
     "metadata": {},
     "output_type": "execute_result"
    }
   ],
   "source": [
    "lista"
   ]
  },
  {
   "cell_type": "code",
   "execution_count": 75,
   "id": "482492d1",
   "metadata": {},
   "outputs": [],
   "source": [
    "lista.reverse()"
   ]
  },
  {
   "cell_type": "code",
   "execution_count": 76,
   "id": "df5d50ae",
   "metadata": {},
   "outputs": [
    {
     "data": {
      "text/plain": [
       "[5, 4, 3, 2, 1]"
      ]
     },
     "execution_count": 76,
     "metadata": {},
     "output_type": "execute_result"
    }
   ],
   "source": [
    "lista"
   ]
  },
  {
   "cell_type": "markdown",
   "id": "46ac2408",
   "metadata": {},
   "source": [
    "#### Método ```sort()```"
   ]
  },
  {
   "cell_type": "markdown",
   "id": "d21fa239",
   "metadata": {},
   "source": [
    "Este método ordena, cuando es posible, los elementos de una lista.\n",
    "\n",
    "```\n",
    "<objeto tipo list>.sort(reverse=<booleano>)\n",
    "```\n",
    "\n",
    "* Si se especifica el argumento ```reverse=True``` el ordenamiento se hace de forma descendente. \n",
    "* El valor por defecto es ```reverse=False```.\n",
    "* En caso de que los elementos no sean compatibles, se desencadenará un error de tipo ```TypeError```."
   ]
  },
  {
   "cell_type": "markdown",
   "id": "e2f1f50f",
   "metadata": {},
   "source": [
    "##### Ejemplos:"
   ]
  },
  {
   "cell_type": "code",
   "execution_count": 80,
   "id": "4dcf3465",
   "metadata": {},
   "outputs": [],
   "source": [
    "lista = [100, 52, 78,35, 0, 89, 111]"
   ]
  },
  {
   "cell_type": "code",
   "execution_count": 81,
   "id": "84f6716c",
   "metadata": {},
   "outputs": [],
   "source": [
    "lista.sort()"
   ]
  },
  {
   "cell_type": "code",
   "execution_count": 82,
   "id": "72758e86",
   "metadata": {},
   "outputs": [
    {
     "data": {
      "text/plain": [
       "[0, 35, 52, 78, 89, 100, 111]"
      ]
     },
     "execution_count": 82,
     "metadata": {},
     "output_type": "execute_result"
    }
   ],
   "source": [
    "lista"
   ]
  },
  {
   "cell_type": "code",
   "execution_count": 83,
   "id": "550f3b55",
   "metadata": {},
   "outputs": [],
   "source": [
    "lista.sort(reverse=True)"
   ]
  },
  {
   "cell_type": "code",
   "execution_count": 84,
   "id": "223b2a1d",
   "metadata": {},
   "outputs": [
    {
     "data": {
      "text/plain": [
       "[111, 100, 89, 78, 52, 35, 0]"
      ]
     },
     "execution_count": 84,
     "metadata": {},
     "output_type": "execute_result"
    }
   ],
   "source": [
    "lista"
   ]
  },
  {
   "cell_type": "markdown",
   "id": "ef634e4c",
   "metadata": {},
   "source": [
    "#### Método ```pop```"
   ]
  },
  {
   "cell_type": "markdown",
   "id": "1f0de38c",
   "metadata": {},
   "source": [
    "Este método regresa y elimina al elemento que corresponde al índice que se ingresa como argumento.\n",
    "\n",
    "```\n",
    "<objeto tipo list>.pop(<índice>)\n",
    "```\n",
    "\n",
    "* En caso de que no se ingreser un índice, el método regresará y eliminará al elmentos del extremo derecho del objeto tipo ```list```.\n",
    "\n",
    "* En caso de que el objeto tipo  ```list```esté vacío, se generará un error de tipo ```IndexError```."
   ]
  },
  {
   "cell_type": "markdown",
   "id": "afb8aed5",
   "metadata": {},
   "source": [
    "##### Ejemplos:"
   ]
  },
  {
   "cell_type": "code",
   "execution_count": 85,
   "id": "3c82c033",
   "metadata": {},
   "outputs": [],
   "source": [
    "lista = [15, 50, 34, 22, 89, 56]"
   ]
  },
  {
   "cell_type": "code",
   "execution_count": 86,
   "id": "58b4ba3f",
   "metadata": {},
   "outputs": [
    {
     "data": {
      "text/plain": [
       "[15, 50, 34, 22, 89, 56]"
      ]
     },
     "execution_count": 86,
     "metadata": {},
     "output_type": "execute_result"
    }
   ],
   "source": [
    "lista"
   ]
  },
  {
   "cell_type": "code",
   "execution_count": 87,
   "id": "5911c3db",
   "metadata": {},
   "outputs": [
    {
     "data": {
      "text/plain": [
       "50"
      ]
     },
     "execution_count": 87,
     "metadata": {},
     "output_type": "execute_result"
    }
   ],
   "source": [
    "lista.pop(1)"
   ]
  },
  {
   "cell_type": "code",
   "execution_count": 88,
   "id": "dd93b8e0",
   "metadata": {},
   "outputs": [
    {
     "data": {
      "text/plain": [
       "[15, 34, 22, 89, 56]"
      ]
     },
     "execution_count": 88,
     "metadata": {},
     "output_type": "execute_result"
    }
   ],
   "source": [
    "lista"
   ]
  },
  {
   "cell_type": "code",
   "execution_count": 89,
   "id": "6a397cce",
   "metadata": {},
   "outputs": [
    {
     "data": {
      "text/plain": [
       "56"
      ]
     },
     "execution_count": 89,
     "metadata": {},
     "output_type": "execute_result"
    }
   ],
   "source": [
    "lista.pop()"
   ]
  },
  {
   "cell_type": "code",
   "execution_count": 90,
   "id": "6d5926c0",
   "metadata": {},
   "outputs": [
    {
     "data": {
      "text/plain": [
       "[15, 34, 22, 89]"
      ]
     },
     "execution_count": 90,
     "metadata": {},
     "output_type": "execute_result"
    }
   ],
   "source": [
    "lista"
   ]
  },
  {
   "cell_type": "markdown",
   "id": "92a3734a",
   "metadata": {},
   "source": [
    "#### Método ```extend```"
   ]
  },
  {
   "cell_type": "markdown",
   "id": "ef2ac071",
   "metadata": {},
   "source": [
    "Este método inserta al final de la lista cada uno de los elementos que se ingresan como argumento\n",
    "\n",
    "```\n",
    "<objeto tipo list>.extend(<colección>)\n",
    "```"
   ]
  },
  {
   "cell_type": "markdown",
   "id": "d1cdb56b",
   "metadata": {},
   "source": [
    "##### Ejemplos: "
   ]
  },
  {
   "cell_type": "code",
   "execution_count": 91,
   "id": "9db6fb83",
   "metadata": {},
   "outputs": [],
   "source": [
    "lista = [1, 2, 3]"
   ]
  },
  {
   "cell_type": "code",
   "execution_count": 93,
   "id": "8d1ef8e1",
   "metadata": {},
   "outputs": [],
   "source": [
    "lista.extend((4, 5))"
   ]
  },
  {
   "cell_type": "code",
   "execution_count": 94,
   "id": "eb5bb0d3",
   "metadata": {},
   "outputs": [
    {
     "data": {
      "text/plain": [
       "[1, 2, 3, 4, 5]"
      ]
     },
     "execution_count": 94,
     "metadata": {},
     "output_type": "execute_result"
    }
   ],
   "source": [
    "lista"
   ]
  },
  {
   "cell_type": "code",
   "execution_count": 95,
   "id": "c722b6ff",
   "metadata": {},
   "outputs": [
    {
     "ename": "TypeError",
     "evalue": "'int' object is not iterable",
     "output_type": "error",
     "traceback": [
      "\u001b[1;31m---------------------------------------------------------------------------\u001b[0m",
      "\u001b[1;31mTypeError\u001b[0m                                 Traceback (most recent call last)",
      "Cell \u001b[1;32mIn[95], line 1\u001b[0m\n\u001b[1;32m----> 1\u001b[0m lista\u001b[38;5;241m.\u001b[39mextend(\u001b[38;5;241m6\u001b[39m)\n",
      "\u001b[1;31mTypeError\u001b[0m: 'int' object is not iterable"
     ]
    }
   ],
   "source": [
    "lista.extend(6)"
   ]
  },
  {
   "cell_type": "code",
   "execution_count": 97,
   "id": "922411d8",
   "metadata": {},
   "outputs": [],
   "source": [
    "lista.extend((6, 7, 8))"
   ]
  },
  {
   "cell_type": "code",
   "execution_count": 98,
   "id": "45948cb8",
   "metadata": {},
   "outputs": [
    {
     "data": {
      "text/plain": [
       "[1, 2, 3, 4, 5, 6, 7, 8]"
      ]
     },
     "execution_count": 98,
     "metadata": {},
     "output_type": "execute_result"
    }
   ],
   "source": [
    "lista"
   ]
  },
  {
   "cell_type": "markdown",
   "id": "e66ca76e",
   "metadata": {},
   "source": [
    "#### Método ```clear```"
   ]
  },
  {
   "cell_type": "markdown",
   "id": "4cbc6fc2",
   "metadata": {},
   "source": [
    "Este método elimina todos los elementos de la lista: \n",
    "    \n",
    "```\n",
    "<objeto tipo list>.clear()\n",
    "```"
   ]
  },
  {
   "cell_type": "markdown",
   "id": "16d67fe6",
   "metadata": {},
   "source": [
    "##### Ejemplo:"
   ]
  },
  {
   "cell_type": "code",
   "execution_count": 100,
   "id": "65b26a77",
   "metadata": {},
   "outputs": [],
   "source": [
    "lista = [97, 45, 67, 54, 23, 32]"
   ]
  },
  {
   "cell_type": "code",
   "execution_count": 101,
   "id": "4449ce0c",
   "metadata": {},
   "outputs": [
    {
     "data": {
      "text/plain": [
       "[97, 45, 67, 54, 23, 32]"
      ]
     },
     "execution_count": 101,
     "metadata": {},
     "output_type": "execute_result"
    }
   ],
   "source": [
    "lista"
   ]
  },
  {
   "cell_type": "code",
   "execution_count": 102,
   "id": "7d7dcb27",
   "metadata": {},
   "outputs": [],
   "source": [
    "lista.clear()"
   ]
  },
  {
   "cell_type": "code",
   "execution_count": 103,
   "id": "cb4676b1",
   "metadata": {},
   "outputs": [
    {
     "data": {
      "text/plain": [
       "[]"
      ]
     },
     "execution_count": 103,
     "metadata": {},
     "output_type": "execute_result"
    }
   ],
   "source": [
    "lista"
   ]
  },
  {
   "cell_type": "markdown",
   "id": "6ab5e83b",
   "metadata": {},
   "source": [
    "#### Método ```count```"
   ]
  },
  {
   "cell_type": "markdown",
   "id": "6095c987",
   "metadata": {},
   "source": [
    "Este método cuenta el número de veces que aparece un elemento de una lista.\n",
    "\n",
    "\n",
    "```\n",
    "<objeto tipo list>.count(<objeto>)\n",
    "```"
   ]
  },
  {
   "cell_type": "markdown",
   "id": "8907ba5b",
   "metadata": {},
   "source": [
    "##### Ejemplos: "
   ]
  },
  {
   "cell_type": "code",
   "execution_count": 105,
   "id": "c3cb3045",
   "metadata": {},
   "outputs": [],
   "source": [
    "lista = [True, False, True, True, False, True, False]"
   ]
  },
  {
   "cell_type": "code",
   "execution_count": 106,
   "id": "4b9bd126",
   "metadata": {},
   "outputs": [
    {
     "data": {
      "text/plain": [
       "4"
      ]
     },
     "execution_count": 106,
     "metadata": {},
     "output_type": "execute_result"
    }
   ],
   "source": [
    "lista.count(True)"
   ]
  },
  {
   "cell_type": "code",
   "execution_count": 107,
   "id": "acc25e43",
   "metadata": {},
   "outputs": [
    {
     "data": {
      "text/plain": [
       "3"
      ]
     },
     "execution_count": 107,
     "metadata": {},
     "output_type": "execute_result"
    }
   ],
   "source": [
    "lista.count(False)"
   ]
  },
  {
   "cell_type": "markdown",
   "id": "99abeeca",
   "metadata": {},
   "source": [
    "#### Método ```index```"
   ]
  },
  {
   "cell_type": "markdown",
   "id": "1691c93f",
   "metadata": {},
   "source": [
    "este método hace una búsqueda de izquierda a derecha de un elemento dentro de un rango especificado, si lo encuentra regresa el índice en el que se encuentra.\n",
    "\n",
    "\n",
    "```\n",
    "<objeto tipo list>.index(<objeto>, m, n)\n",
    "```\n",
    "\n",
    "Donde:\n",
    "\n",
    "* ```m``` es el índice menor.\n",
    "* ```n``` es el índice mayor.\n",
    "\n",
    "* La búsqueda se realizará desde el índice ```m``` hasta uno antes de ```n```.\n",
    "* El valor de ```n```puede ser superior al del tamaño del objeto tipo ```list```.\n",
    "* Si sólo se ingresa ```m```, la búsqueda se realizará desde el íncide ```m``` hasta el final del objeto tipo ```list```.\n",
    "* En caso de no definir un rango, la búsqueda se realizará en el objeto completo.\n",
    "* En caso de no encontrar una coincidencia en el rango detrerminado, se generará un error tipo ```ValueError```. "
   ]
  },
  {
   "cell_type": "markdown",
   "id": "2b0f1ace",
   "metadata": {},
   "source": [
    "##### Ejemplos:"
   ]
  },
  {
   "cell_type": "code",
   "execution_count": 108,
   "id": "a95742e7",
   "metadata": {},
   "outputs": [],
   "source": [
    "lista = [89, 23, 85, 69, 75, 98, 100]"
   ]
  },
  {
   "cell_type": "code",
   "execution_count": 109,
   "id": "007c9e01",
   "metadata": {},
   "outputs": [
    {
     "data": {
      "text/plain": [
       "7"
      ]
     },
     "execution_count": 109,
     "metadata": {},
     "output_type": "execute_result"
    }
   ],
   "source": [
    "len(lista)"
   ]
  },
  {
   "cell_type": "code",
   "execution_count": 110,
   "id": "546a15e2",
   "metadata": {},
   "outputs": [
    {
     "data": {
      "text/plain": [
       "2"
      ]
     },
     "execution_count": 110,
     "metadata": {},
     "output_type": "execute_result"
    }
   ],
   "source": [
    "lista.index(85)"
   ]
  },
  {
   "cell_type": "code",
   "execution_count": 112,
   "id": "963a9bec",
   "metadata": {},
   "outputs": [
    {
     "data": {
      "text/plain": [
       "2"
      ]
     },
     "execution_count": 112,
     "metadata": {},
     "output_type": "execute_result"
    }
   ],
   "source": [
    "lista.index(85, 2)"
   ]
  },
  {
   "cell_type": "code",
   "execution_count": 113,
   "id": "36058c07",
   "metadata": {},
   "outputs": [
    {
     "data": {
      "text/plain": [
       "2"
      ]
     },
     "execution_count": 113,
     "metadata": {},
     "output_type": "execute_result"
    }
   ],
   "source": [
    "lista.index(85, 0, 4)"
   ]
  },
  {
   "cell_type": "markdown",
   "id": "17ab4cad",
   "metadata": {},
   "source": [
    "### Listas anidadas"
   ]
  },
  {
   "cell_type": "code",
   "execution_count": null,
   "id": "db523b3c",
   "metadata": {},
   "outputs": [],
   "source": []
  },
  {
   "cell_type": "markdown",
   "id": "9b90d76c",
   "metadata": {},
   "source": [
    "## 3.2 Estructuras de Datos Heterogéneas"
   ]
  },
  {
   "cell_type": "markdown",
   "id": "2768aee7",
   "metadata": {},
   "source": [
    "## 3.3 Estructuras de Datos Asociativas"
   ]
  },
  {
   "cell_type": "markdown",
   "id": "511c1e74",
   "metadata": {},
   "source": [
    "### Definición"
   ]
  },
  {
   "cell_type": "markdown",
   "id": "bc8eb3c7",
   "metadata": {},
   "source": [
    "Un conjunto es una colección no ordenada de elementos únicos. Se utilizan para realizar operaciones de conjuntos.\n"
   ]
  },
  {
   "cell_type": "markdown",
   "id": "c072bb7a",
   "metadata": {},
   "source": [
    "### Ejemplo"
   ]
  },
  {
   "cell_type": "code",
   "execution_count": 5,
   "id": "96b77618",
   "metadata": {},
   "outputs": [],
   "source": [
    "# Crear conjuntos\n",
    "frutas = {'mango', 'fresa', 'naranja'}\n",
    "frutas2 = {'kiwi', 'pera', 'fresa'}"
   ]
  },
  {
   "cell_type": "markdown",
   "id": "640a5799",
   "metadata": {},
   "source": [
    "### Métodos de conjuntos"
   ]
  },
  {
   "cell_type": "markdown",
   "id": "f9a5255c",
   "metadata": {},
   "source": [
    "#### union()"
   ]
  },
  {
   "cell_type": "markdown",
   "id": "f728d0fa",
   "metadata": {},
   "source": [
    "Devuelve la unión de dos conjuntos."
   ]
  },
  {
   "cell_type": "markdown",
   "id": "2a821e23",
   "metadata": {},
   "source": [
    "#### intersection()"
   ]
  },
  {
   "cell_type": "markdown",
   "id": "082b8c0e",
   "metadata": {},
   "source": [
    "Devuelve la intersección de dos conjuntos."
   ]
  },
  {
   "cell_type": "markdown",
   "id": "beaa6e0f",
   "metadata": {},
   "source": [
    "#### difference()"
   ]
  },
  {
   "cell_type": "markdown",
   "id": "cb0bdb06",
   "metadata": {},
   "source": [
    " Devuelve la diferencia entre dos conjuntos."
   ]
  },
  {
   "cell_type": "markdown",
   "id": "a66d1daf",
   "metadata": {},
   "source": [
    "#### add()"
   ]
  },
  {
   "cell_type": "markdown",
   "id": "00befbae",
   "metadata": {},
   "source": [
    "Agrega un elemento al conjunto."
   ]
  },
  {
   "cell_type": "markdown",
   "id": "4ac64e87",
   "metadata": {},
   "source": [
    "#### remove()"
   ]
  },
  {
   "cell_type": "markdown",
   "id": "7cfa4f63",
   "metadata": {},
   "source": [
    "Elimina un elemento del conjunto (genera un error si no existe)."
   ]
  },
  {
   "cell_type": "markdown",
   "id": "ad9f7586",
   "metadata": {},
   "source": [
    "#### discard()"
   ]
  },
  {
   "cell_type": "markdown",
   "id": "396b678a",
   "metadata": {},
   "source": [
    "Elimina un elemento del conjunto (sin error si no existe)."
   ]
  },
  {
   "cell_type": "markdown",
   "id": "3a2b67ad",
   "metadata": {},
   "source": [
    "### Ejemplo 2"
   ]
  },
  {
   "cell_type": "code",
   "execution_count": 7,
   "id": "0d7da1bb",
   "metadata": {},
   "outputs": [],
   "source": [
    "#ejemplos métodos\n",
    "\n",
    "union = frutas.union(frutas2)\n",
    "interseccion = frutas.intersection(frutas2)\n",
    "diferencia = frutas.difference(frutas2)"
   ]
  },
  {
   "cell_type": "code",
   "execution_count": 11,
   "id": "0257841a",
   "metadata": {},
   "outputs": [
    {
     "data": {
      "text/plain": [
       "{'mango', 'naranja'}"
      ]
     },
     "execution_count": 11,
     "metadata": {},
     "output_type": "execute_result"
    }
   ],
   "source": [
    "diferencia\n"
   ]
  },
  {
   "cell_type": "markdown",
   "id": "649eb17c",
   "metadata": {},
   "source": [
    "### Ejercicio 1"
   ]
  },
  {
   "cell_type": "markdown",
   "id": "5a1d8a68",
   "metadata": {},
   "source": [
    "- Crea un conjunto con tus colores favoritos.\n",
    "- Crea un conjunto con los colores favoritos de un(a) compañero(a).\n",
    "- Realiza la unión, intersección y diferencia de dos conjuntos diferentes."
   ]
  },
  {
   "cell_type": "markdown",
   "id": "ff6839fe",
   "metadata": {},
   "source": [
    "### Ejercicio 2"
   ]
  },
  {
   "cell_type": "markdown",
   "id": "3106355f",
   "metadata": {},
   "source": [
    "- Crear un conjunto de tuplas que contenga información de la materia de programación (Nombre, Matrícula, calificación).\n",
    "- Crear un conjunto de tuplas que contenga información de una materia extracurricular (Nombre, Matrícula, calificación).\n",
    "- Realizar los métodos intersection() y difference()\n",
    "- Agregar un elemento a cada conjunto.\n",
    "- Remover un elemento a cada conjunto."
   ]
  },
  {
   "cell_type": "markdown",
   "id": "dcc04f2e",
   "metadata": {},
   "source": [
    "### Actividad "
   ]
  },
  {
   "cell_type": "markdown",
   "id": "64dd1bd6",
   "metadata": {},
   "source": [
    "Realizar una comparación entre las diferentes estructuras vistas en esta unidad. Realizar una infografía para mostrar la comparación."
   ]
  },
  {
   "cell_type": "markdown",
   "id": "db616917",
   "metadata": {},
   "source": [
    "## Resumen de unidad"
   ]
  },
  {
   "cell_type": "markdown",
   "id": "d93244e3",
   "metadata": {},
   "source": [
    "### Listas"
   ]
  },
  {
   "cell_type": "markdown",
   "id": "f0b4e406",
   "metadata": {},
   "source": [
    "- Homogéneas y heterogéneas: Pueden contener elementos del mismo tipo (homogéneas) o elementos de diferentes tipos (heterogéneas).\n",
    "- Ordenadas y modificables: Mantienen el orden de los elementos y se pueden modificar (agregar, eliminar, modificar elementos).\n"
   ]
  },
  {
   "cell_type": "markdown",
   "id": "f4ddf124",
   "metadata": {},
   "source": [
    "### Diccionarios"
   ]
  },
  {
   "cell_type": "markdown",
   "id": "c5082674",
   "metadata": {},
   "source": [
    "- Heterogéneos: Pueden contener valores de diferentes tipos.\n",
    "- Asociativos: Almacenan datos en pares clave-valor, proporcionando una forma eficiente de buscar y recuperar información.\n",
    "- No ordenados: No mantienen un orden específico de los elementos.\n"
   ]
  },
  {
   "cell_type": "markdown",
   "id": "a70f3e01",
   "metadata": {},
   "source": [
    "### Tuplas"
   ]
  },
  {
   "cell_type": "markdown",
   "id": "26e0f8dd",
   "metadata": {},
   "source": [
    "- Heterogéneas: Pueden contener elementos de diferentes tipos.\n",
    "- Inmutables y ordenadas: Una vez creadas, no se pueden modificar, y mantienen el orden de los elementos."
   ]
  },
  {
   "cell_type": "markdown",
   "id": "5e9c1133",
   "metadata": {},
   "source": [
    "### Conjuntos"
   ]
  },
  {
   "cell_type": "markdown",
   "id": "fa08517b",
   "metadata": {},
   "source": [
    "- Asociativos: Almacenan elementos únicos sin una relación explícita de clave-valor.\n",
    "- Elementos únicos y no ordenados: No permiten duplicados y no mantienen un orden específico de los elementos."
   ]
  },
  {
   "cell_type": "code",
   "execution_count": null,
   "id": "e72f3e18",
   "metadata": {},
   "outputs": [],
   "source": []
  }
 ],
 "metadata": {
  "kernelspec": {
   "display_name": "Python 3 (ipykernel)",
   "language": "python",
   "name": "python3"
  },
  "language_info": {
   "codemirror_mode": {
    "name": "ipython",
    "version": 3
   },
   "file_extension": ".py",
   "mimetype": "text/x-python",
   "name": "python",
   "nbconvert_exporter": "python",
   "pygments_lexer": "ipython3",
   "version": "3.11.4"
  }
 },
 "nbformat": 4,
 "nbformat_minor": 5
}
