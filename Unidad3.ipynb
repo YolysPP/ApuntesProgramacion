{
 "cells": [
  {
   "cell_type": "markdown",
   "id": "4f3f9cdd",
   "metadata": {},
   "source": [
    "# Unidad 2"
   ]
  },
  {
   "cell_type": "markdown",
   "id": "3a77b739",
   "metadata": {},
   "source": [
    "## 2.7 Instrucciones condicionales"
   ]
  },
  {
   "cell_type": "markdown",
   "id": "3193904e",
   "metadata": {},
   "source": [
    "### Objetivo"
   ]
  },
  {
   "cell_type": "markdown",
   "id": "e93e3bdf",
   "metadata": {},
   "source": [
    "Hacer uso de decisiones y de opción múltiple en un programa de computadora."
   ]
  },
  {
   "cell_type": "markdown",
   "id": "fc65e9c9",
   "metadata": {},
   "source": [
    "### Objetivos de aprendizaje"
   ]
  },
  {
   "cell_type": "markdown",
   "id": "2665b748",
   "metadata": {},
   "source": [
    "- Comprender qué son las estructuras condicionales y porqué son importantes en la programación.\n",
    "- Aprender a usar la estructura *if* para tomar decisiones en Python.\n",
    "- Familiarizarse con las estructuras *if-else* e *if-elif-else* para manejar condiciones múltiples.\n",
    "- Practicar la escritura de código Python utilizando estructuras condicionales. "
   ]
  },
  {
   "cell_type": "markdown",
   "id": "16fff8be",
   "metadata": {},
   "source": [
    "Las estructuras condicionales son bloques de código que permiten que un programa tome decisiones basadas en condiciones específicas. estas estructuras son esenciales para la lógica y el control de flujo de un programa."
   ]
  },
  {
   "cell_type": "markdown",
   "id": "6b880802",
   "metadata": {},
   "source": [
    "### Estructura if"
   ]
  },
  {
   "cell_type": "markdown",
   "id": "b17be462",
   "metadata": {},
   "source": [
    "La estructura if se utiliza para ejecutar un bloque de código si una condición es verdadera. "
   ]
  },
  {
   "attachments": {
    "DonRam%C3%B3n.jpg": {
     "image/jpeg": "[encoded data removed]"
    }
   },
   "cell_type": "markdown",
   "id": "2de90adb",
   "metadata": {},
   "source": [
    "![DonRam%C3%B3n.jpg](attachment:DonRam%C3%B3n.jpg)"
   ]
  },
  {
   "cell_type": "markdown",
   "id": "5349e2b9",
   "metadata": {},
   "source": [
    "**Ejemplo 1:** Determinar dada la edad de una persona si es mayor de edad."
   ]
  },
  {
   "cell_type": "code",
   "execution_count": null,
   "id": "cb5e78f3",
   "metadata": {},
   "outputs": [],
   "source": []
  },
  {
   "cell_type": "markdown",
   "id": "18425893",
   "metadata": {},
   "source": [
    "**Ejercicio 1:** Dado un número entero determinar si es positivo. "
   ]
  },
  {
   "cell_type": "markdown",
   "id": "2827821e",
   "metadata": {},
   "source": [
    "### Estructura if-else"
   ]
  },
  {
   "cell_type": "markdown",
   "id": "5dda495a",
   "metadata": {},
   "source": [
    "La estructura *if-else* permite ejecutar un bloque de código si una condición es verdadedra y otro bloque si la condición es falsa."
   ]
  },
  {
   "cell_type": "markdown",
   "id": "8e46a7fe",
   "metadata": {},
   "source": [
    "**Ejemplo 2:** determinar si una persona es mayor o menor de edad."
   ]
  },
  {
   "cell_type": "code",
   "execution_count": null,
   "id": "2b798652",
   "metadata": {},
   "outputs": [],
   "source": []
  },
  {
   "cell_type": "markdown",
   "id": "3ad8ff9f",
   "metadata": {},
   "source": [
    "**Ejercicio 2:** Modificar el programa para que solicite al usuario que ingrese su edad."
   ]
  },
  {
   "cell_type": "markdown",
   "id": "b1e70513",
   "metadata": {},
   "source": [
    "**Ejercicio 3:** Modificar el ejercicio 1 para que: determine si el número es negativo y, además solicite el número al usuario."
   ]
  },
  {
   "cell_type": "markdown",
   "id": "4b6773dc",
   "metadata": {},
   "source": [
    "### Estructura *if-elif-else*"
   ]
  },
  {
   "cell_type": "markdown",
   "id": "9894e6e0",
   "metadata": {},
   "source": [
    "La estructura *if-elif-else* se utiliza cuando hay múltiples condiciones y permite ejecutar bloques de código según las condiciones que se cumplan: "
   ]
  },
  {
   "cell_type": "markdown",
   "id": "0ec6914f",
   "metadata": {},
   "source": [
    "**Ejemplo 3:** Determinar en que etapa de la vida está una persona de acuerdo con su edad: \n",
    "- Si es mayor a 60 años es adulto mayor.\n",
    "- Si es mayor a 35 años es adulto maduro.\n",
    "- Si es mayor a 25 años es adulto.\n",
    "- Si es mayor a 18 años es joven.\n",
    "- Si es mayor a 13 años es adolescente.\n",
    "- En otro caso, es un niño."
   ]
  },
  {
   "cell_type": "code",
   "execution_count": null,
   "id": "987f610f",
   "metadata": {},
   "outputs": [],
   "source": []
  },
  {
   "cell_type": "markdown",
   "id": "0cab35b5",
   "metadata": {},
   "source": [
    "### Ejercicios individuales"
   ]
  },
  {
   "cell_type": "markdown",
   "id": "6add4493",
   "metadata": {},
   "source": [
    "Realice los siguientes ejercicios y pegue una captura de pantalla de su script en su bloc de notas personal. "
   ]
  },
  {
   "cell_type": "markdown",
   "id": "ab98d8a4",
   "metadata": {},
   "source": [
    "**Ejercicio 4:** Realice un script que realice lo siguiente:\n",
    "Solicite al usuario una calificación entre 0 - 10, siguiendo los criterios de la UQROO y evalúe de acuerdo a lo siguiente:\n",
    "- Calificación mayor de 90, asignar a una variable llamada *competencia* \"Excelente\".\n",
    "- Calificación mayor de 80, asignar a la variable *competencia* \"Muy bueno\".\n",
    "- Calificación mayor de 70, asignar a la variable *competencia* \"Bueno\".\n",
    "- En otro caso, asignar a la variable *competencia* \"Necesita mejorar\".\n",
    "- Imprimir al final \"Tu nivel de competencia es \"\n"
   ]
  },
  {
   "cell_type": "markdown",
   "id": "cb9c088c",
   "metadata": {},
   "source": [
    "**Ejercicio 5:** Crea un programa que calcule el precio final de un artículo después de aplicar un descuento. El programa debe solicitar al usuario ingresar el precio original del artículo y luego determinar el precio final después de aplicar un 10% de descuento si el precio original es mayor o igual a $100; de lo contrario, no se aplica descuento."
   ]
  },
  {
   "cell_type": "markdown",
   "id": "404cc1de",
   "metadata": {},
   "source": [
    "**Ejercicio 6:** Escribe un programa que solicite al usuario ingresar una contraseña. Luego, el programa debe verificar si la contraseña es válida según los siguientes criterios:\n",
    "\n",
    "Debe contener al menos 8 caracteres.\n",
    "Debe contener al menos una letra mayúscula y una letra minúscula.\n",
    "Debe contener al menos un número.\n",
    "El programa debe imprimir un mensaje indicando si la contraseña es válida o no."
   ]
  },
  {
   "cell_type": "code",
   "execution_count": null,
   "id": "beb6ec65",
   "metadata": {},
   "outputs": [],
   "source": []
  }
 ],
 "metadata": {
  "kernelspec": {
   "display_name": "Python 3 (ipykernel)",
   "language": "python",
   "name": "python3"
  },
  "language_info": {
   "codemirror_mode": {
    "name": "ipython",
    "version": 3
   },
   "file_extension": ".py",
   "mimetype": "text/x-python",
   "name": "python",
   "nbconvert_exporter": "python",
   "pygments_lexer": "ipython3",
   "version": "3.11.4"
  }
 },
 "nbformat": 4,
 "nbformat_minor": 5
}
