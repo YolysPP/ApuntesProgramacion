{
 "cells": [
  {
   "cell_type": "markdown",
   "id": "0f6cd2fa",
   "metadata": {},
   "source": [
    "# Unidad 5. Uso de memoria secundaria para lectura y escritura"
   ]
  },
  {
   "cell_type": "markdown",
   "id": "dc4740fb",
   "metadata": {},
   "source": [
    "## 5.1 Introducción a los flujos de datos"
   ]
  },
  {
   "cell_type": "markdown",
   "id": "1089eddb",
   "metadata": {},
   "source": [
    "Los flujo de datos en Python son canales de comunicación que permiten la entrada y salida de datos desde y hacia un programa."
   ]
  },
  {
   "cell_type": "markdown",
   "id": "70b73c79",
   "metadata": {},
   "source": [
    "#### Ejemplo 1: "
   ]
  },
  {
   "cell_type": "code",
   "execution_count": 1,
   "id": "d8918792",
   "metadata": {},
   "outputs": [
    {
     "name": "stdout",
     "output_type": "stream",
     "text": [
      "Ingrese su nombre: Yolys\n",
      "Hola, Yolys\n"
     ]
    }
   ],
   "source": [
    "# Ejemplo de entrada de datos desde el usuario\n",
    "nombre = input(\"Ingrese su nombre: \")\n",
    "print(\"Hola,\", nombre)"
   ]
  },
  {
   "cell_type": "markdown",
   "id": "c40a89bf",
   "metadata": {},
   "source": [
    "## 5.2 Apertura y cierre de un archivo"
   ]
  },
  {
   "cell_type": "markdown",
   "id": "264c7f4b",
   "metadata": {},
   "source": [
    "En Python, se utilizan funciones como **open()** para abrir un archivo y **close()** para cerrarlo. La apertura puede realizarse en modo lectura ('r'), escritura ('w'), o ambos ('r+') o ('w+')."
   ]
  },
  {
   "cell_type": "markdown",
   "id": "1f863f53",
   "metadata": {},
   "source": [
    "### Archivos de texto sin formato"
   ]
  },
  {
   "cell_type": "markdown",
   "id": "6e4c397d",
   "metadata": {},
   "source": [
    "#### Ejemplo 2"
   ]
  },
  {
   "cell_type": "code",
   "execution_count": 2,
   "id": "5bb19716",
   "metadata": {},
   "outputs": [],
   "source": [
    "# Ejemplo de apertura y escritura en un archivo\n",
    "with open('archivo.txt', 'w') as archivo:\n",
    "    archivo.write('Hola, mundo!')\n"
   ]
  },
  {
   "cell_type": "markdown",
   "id": "1cebef5c",
   "metadata": {},
   "source": [
    "#### Ejemplo 3:"
   ]
  },
  {
   "cell_type": "code",
   "execution_count": 3,
   "id": "c5eca303",
   "metadata": {},
   "outputs": [
    {
     "name": "stdout",
     "output_type": "stream",
     "text": [
      "Hola, mundo!\n"
     ]
    }
   ],
   "source": [
    "# Ejemplo de lectura de un archivo de texto\n",
    "with open('archivo.txt', 'r') as archivo:\n",
    "    contenido = archivo.read()\n",
    "    print(contenido)"
   ]
  },
  {
   "cell_type": "markdown",
   "id": "55e9fd4e",
   "metadata": {},
   "source": [
    "#### Ejemplo 4:"
   ]
  },
  {
   "cell_type": "code",
   "execution_count": 4,
   "id": "d5899161",
   "metadata": {},
   "outputs": [
    {
     "name": "stdout",
     "output_type": "stream",
     "text": [
      "Contenido original del archivo:\n",
      "Hola, mundo!\n",
      "\n",
      "Contenido actualizado del archivo:\n",
      "Hola, mundo!\n",
      "Añadiendo más texto al final del archivo.\n"
     ]
    }
   ],
   "source": [
    "# Ejemplo de apertura, lectura y escritura de un archivo de texto con 'r+'\n",
    "with open('archivo.txt', 'r+') as archivo:\n",
    "    # Leemos el contenido existente del archivo\n",
    "    contenido = archivo.read()\n",
    "    print(\"Contenido original del archivo:\")\n",
    "    print(contenido)\n",
    "\n",
    "    # Movemos el puntero al final del archivo y escribimos más datos\n",
    "    archivo.write('\\nAñadiendo más texto al final del archivo.')\n",
    "\n",
    "    # Movemos el puntero al inicio del archivo para leerlo completo\n",
    "    archivo.seek(0)\n",
    "\n",
    "    # Leemos y mostramos el contenido actualizado del archivo\n",
    "    contenido_actualizado = archivo.read()\n",
    "    print(\"\\nContenido actualizado del archivo:\")\n",
    "    print(contenido_actualizado)\n"
   ]
  },
  {
   "cell_type": "markdown",
   "id": "6de746cb",
   "metadata": {},
   "source": [
    "#### Ejemplo 5: "
   ]
  },
  {
   "cell_type": "code",
   "execution_count": 5,
   "id": "e9504bfb",
   "metadata": {},
   "outputs": [
    {
     "name": "stdout",
     "output_type": "stream",
     "text": [
      "Contenido del archivo:\n",
      "Hola, mundo!\n",
      "Este es un ejemplo de escritura en un archivo.\n",
      "\n"
     ]
    }
   ],
   "source": [
    "# Ejemplo de apertura, escritura y lectura de un archivo de texto\n",
    "with open('archivo.txt', 'w+') as archivo:\n",
    "    # Escribimos datos en el archivo\n",
    "    archivo.write('Hola, mundo!\\n')\n",
    "    archivo.write('Este es un ejemplo de escritura en un archivo.\\n')\n",
    "\n",
    "    # Movemos el puntero al inicio del archivo para leerlo\n",
    "    archivo.seek(0)\n",
    "\n",
    "    # Leemos y mostramos el contenido del archivo\n",
    "    contenido = archivo.read()\n",
    "    print(\"Contenido del archivo:\")\n",
    "    print(contenido)\n"
   ]
  },
  {
   "cell_type": "markdown",
   "id": "bf0db0c2",
   "metadata": {},
   "source": [
    "### Archivos CSV"
   ]
  },
  {
   "cell_type": "markdown",
   "id": "5f3edae4",
   "metadata": {},
   "source": [
    "En Python, la manipulación de archivos no se limita a texto sin formato. También podemos trabajar con archivos CSV (Comma Separated Values), que son comúnmente utilizados para almacenar datos tabulares."
   ]
  },
  {
   "cell_type": "markdown",
   "id": "ccb3e556",
   "metadata": {},
   "source": [
    "#### Ejemplo 6:"
   ]
  },
  {
   "cell_type": "code",
   "execution_count": 6,
   "id": "ce9946b8",
   "metadata": {},
   "outputs": [],
   "source": [
    "# Ejemplo de escritura en un archivo CSV\n",
    "import csv\n",
    "\n",
    "datos = [\n",
    "    [\"Nombre\", \"Edad\", \"Ciudad\"],\n",
    "    [\"Ana\", 25, \"Barcelona\"],\n",
    "    [\"Juan\", 30, \"Madrid\"],\n",
    "    [\"María\", 22, \"Sevilla\"]\n",
    "]\n",
    "\n",
    "with open('datos.csv', 'w', newline='') as archivo_csv:\n",
    "    escritor_csv = csv.writer(archivo_csv)\n",
    "    escritor_csv.writerows(datos)\n"
   ]
  },
  {
   "cell_type": "markdown",
   "id": "9dbff0bb",
   "metadata": {},
   "source": [
    "#### Ejemplo 7:"
   ]
  },
  {
   "cell_type": "code",
   "execution_count": 7,
   "id": "0200c8a1",
   "metadata": {},
   "outputs": [
    {
     "name": "stdout",
     "output_type": "stream",
     "text": [
      "['Nombre', 'Edad', 'Ciudad']\n",
      "['Ana', '25', 'Barcelona']\n",
      "['Juan', '30', 'Madrid']\n",
      "['María', '22', 'Sevilla']\n"
     ]
    }
   ],
   "source": [
    "# Ejemplo de lectura de un archivo CSV\n",
    "with open('datos.csv', 'r') as archivo_csv:\n",
    "    lector_csv = csv.reader(archivo_csv)\n",
    "    for fila in lector_csv:\n",
    "        print(fila)\n"
   ]
  },
  {
   "cell_type": "markdown",
   "id": "20cc337a",
   "metadata": {},
   "source": [
    "## 5.3 Funciones de lectura y escritura"
   ]
  },
  {
   "cell_type": "markdown",
   "id": "aad7b291",
   "metadata": {},
   "source": [
    "### Métodos o funciones de escritura"
   ]
  },
  {
   "cell_type": "markdown",
   "id": "64563b05",
   "metadata": {},
   "source": [
    "##### write (str)"
   ]
  },
  {
   "cell_type": "markdown",
   "id": "8a212f9b",
   "metadata": {},
   "source": [
    "Escribe la cadena de caracteres proporcionada en el archivo."
   ]
  },
  {
   "cell_type": "markdown",
   "id": "9c9a4da5",
   "metadata": {},
   "source": [
    "#### Ejemplo 8:"
   ]
  },
  {
   "cell_type": "code",
   "execution_count": 8,
   "id": "1890aabe",
   "metadata": {},
   "outputs": [],
   "source": [
    "with open('archivo.txt', 'w') as archivo:\n",
    "    archivo.write('Hola, mundo!')\n"
   ]
  },
  {
   "cell_type": "markdown",
   "id": "9ecb8146",
   "metadata": {},
   "source": [
    "##### writelines(list_of_str):"
   ]
  },
  {
   "cell_type": "markdown",
   "id": "f2cd7e99",
   "metadata": {},
   "source": [
    "Escribe una lista de cadenas de caracteres en el archivo."
   ]
  },
  {
   "cell_type": "markdown",
   "id": "725cd32f",
   "metadata": {},
   "source": [
    "#### Ejemplo 9:"
   ]
  },
  {
   "cell_type": "code",
   "execution_count": 9,
   "id": "a9d9c72c",
   "metadata": {},
   "outputs": [],
   "source": [
    "with open('archivo.txt', 'w') as archivo:\n",
    "    lineas = ['Línea 1\\n', 'Línea 2\\n', 'Línea 3\\n']\n",
    "    archivo.writelines(lineas)\n"
   ]
  },
  {
   "cell_type": "markdown",
   "id": "d99eefb1",
   "metadata": {},
   "source": [
    "### Métodos de lectura"
   ]
  },
  {
   "cell_type": "markdown",
   "id": "e311b9da",
   "metadata": {},
   "source": [
    "##### read(size):"
   ]
  },
  {
   "cell_type": "markdown",
   "id": "fe9025d9",
   "metadata": {},
   "source": [
    "Lee y devuelve los primeros **size** bytes del archivo. Si **size** no se proporciona o es negativo, se lee todo el contenido."
   ]
  },
  {
   "cell_type": "markdown",
   "id": "ad467c23",
   "metadata": {},
   "source": [
    "#### Ejemplo 10:"
   ]
  },
  {
   "cell_type": "code",
   "execution_count": 11,
   "id": "2681b9ec",
   "metadata": {},
   "outputs": [
    {
     "name": "stdout",
     "output_type": "stream",
     "text": [
      "Línea 1\n",
      "Línea 2\n",
      "Línea 3\n",
      "\n"
     ]
    }
   ],
   "source": [
    "with open('archivo.txt', 'r') as archivo:\n",
    "    contenido = archivo.read()\n",
    "    print(contenido)\n"
   ]
  },
  {
   "cell_type": "markdown",
   "id": "a48084c2",
   "metadata": {},
   "source": [
    "##### readline(size):"
   ]
  },
  {
   "cell_type": "markdown",
   "id": "5c35c496",
   "metadata": {},
   "source": [
    "Lee y devuelve la siguiente línea del archivo. Si size se proporciona, se lee esa cantidad de bytes."
   ]
  },
  {
   "cell_type": "markdown",
   "id": "f77f7e19",
   "metadata": {},
   "source": [
    "#### Ejemplo 11: "
   ]
  },
  {
   "cell_type": "code",
   "execution_count": 12,
   "id": "83c660e0",
   "metadata": {},
   "outputs": [
    {
     "name": "stdout",
     "output_type": "stream",
     "text": [
      "Línea 1\n",
      "\n"
     ]
    }
   ],
   "source": [
    "with open('archivo.txt', 'r') as archivo:\n",
    "    linea = archivo.readline()\n",
    "    print(linea)\n"
   ]
  },
  {
   "cell_type": "markdown",
   "id": "9b7f6a3d",
   "metadata": {},
   "source": [
    "##### readlines(hint):"
   ]
  },
  {
   "cell_type": "markdown",
   "id": "840ee399",
   "metadata": {},
   "source": [
    "Lee y devuelve una lista de líneas del archivo. Si hint se proporciona, se lee aproximadamente esa cantidad de bytes."
   ]
  },
  {
   "cell_type": "markdown",
   "id": "895ced7d",
   "metadata": {},
   "source": [
    "#### Ejemplo 12:"
   ]
  },
  {
   "cell_type": "code",
   "execution_count": 13,
   "id": "34ae8668",
   "metadata": {},
   "outputs": [
    {
     "name": "stdout",
     "output_type": "stream",
     "text": [
      "['Línea 1\\n', 'Línea 2\\n', 'Línea 3\\n']\n"
     ]
    }
   ],
   "source": [
    "with open('archivo.txt', 'r') as archivo:\n",
    "    lineas = archivo.readlines()\n",
    "    print(lineas)\n"
   ]
  },
  {
   "cell_type": "markdown",
   "id": "070792a5",
   "metadata": {},
   "source": [
    "##### iterator:"
   ]
  },
  {
   "cell_type": "markdown",
   "id": "6a9a20cb",
   "metadata": {},
   "source": [
    "Puedes iterar directamente sobre el archivo para leer línea por línea."
   ]
  },
  {
   "cell_type": "markdown",
   "id": "316ffd7b",
   "metadata": {},
   "source": [
    "#### Ejemplo 13:"
   ]
  },
  {
   "cell_type": "code",
   "execution_count": 14,
   "id": "74723a4d",
   "metadata": {},
   "outputs": [
    {
     "name": "stdout",
     "output_type": "stream",
     "text": [
      "Línea 1\n",
      "\n",
      "Línea 2\n",
      "\n",
      "Línea 3\n",
      "\n"
     ]
    }
   ],
   "source": [
    "with open('archivo.txt', 'r') as archivo:\n",
    "    for linea in archivo:\n",
    "        print(linea)\n"
   ]
  },
  {
   "cell_type": "markdown",
   "id": "8f49f2bc",
   "metadata": {},
   "source": [
    "## 5.4 Tipos de excepciones"
   ]
  },
  {
   "cell_type": "markdown",
   "id": "f14eac56",
   "metadata": {},
   "source": [
    "### Definición"
   ]
  },
  {
   "cell_type": "markdown",
   "id": "1aae924c",
   "metadata": {},
   "source": [
    "Las excepciones son eventos inesperados que interrumpen el flujo normal del programa. En Python, hay varios tipos de excepciones, como FileNotFoundError, TypeError, etc."
   ]
  },
  {
   "cell_type": "markdown",
   "id": "7f5f76a6",
   "metadata": {},
   "source": [
    "##### Error TypeError"
   ]
  },
  {
   "cell_type": "markdown",
   "id": "e61f3d62",
   "metadata": {},
   "source": [
    "#### Ejemplo 14:"
   ]
  },
  {
   "cell_type": "code",
   "execution_count": 15,
   "id": "73b2f374",
   "metadata": {},
   "outputs": [
    {
     "name": "stdout",
     "output_type": "stream",
     "text": [
      "Error: unsupported operand type(s) for +: 'int' and 'str'\n"
     ]
    }
   ],
   "source": [
    "# Ejemplo de TypeError\n",
    "numero = \"dos\"\n",
    "try:\n",
    "    resultado = 10 + numero\n",
    "except TypeError as e:\n",
    "    print(f\"Error: {e}\")\n"
   ]
  },
  {
   "cell_type": "markdown",
   "id": "01dccc02",
   "metadata": {},
   "source": [
    "##### Error FileNotFoundError"
   ]
  },
  {
   "cell_type": "markdown",
   "id": "baccda02",
   "metadata": {},
   "source": [
    "#### Ejemplo 15"
   ]
  },
  {
   "cell_type": "code",
   "execution_count": null,
   "id": "5926a722",
   "metadata": {},
   "outputs": [],
   "source": [
    "try:\n",
    "    # Intentamos abrir un archivo que no existe\n",
    "    with open('archivo_inexistente.txt', 'r') as archivo:\n",
    "        contenido = archivo.read()\n",
    "        print(contenido)\n",
    "\n",
    "except FileNotFoundError:\n",
    "    # Capturamos la excepción FileNotFoundError\n",
    "    print(\"El archivo no se encontró. Verifica el nombre o la ruta.\")\n",
    "\n",
    "except Exception as e:\n",
    "    # Capturamos cualquier otra excepción que pueda ocurrir\n",
    "    print(f\"Ocurrió un error: {e}\")\n"
   ]
  },
  {
   "cell_type": "markdown",
   "id": "e5db1aec",
   "metadata": {},
   "source": [
    "## 5.5 Manejo de excepciones"
   ]
  },
  {
   "cell_type": "markdown",
   "id": "27202891",
   "metadata": {},
   "source": [
    "### Definición "
   ]
  },
  {
   "cell_type": "markdown",
   "id": "dccc1bec",
   "metadata": {},
   "source": [
    "El manejo de excepciones se realiza mediante bloques try y except. Esto permite controlar errores y ejecutar un código alternativo cuando se detecta una excepción."
   ]
  },
  {
   "cell_type": "markdown",
   "id": "a94fc3ec",
   "metadata": {},
   "source": [
    "#### Ejemplo 16: "
   ]
  },
  {
   "cell_type": "code",
   "execution_count": 16,
   "id": "191578b5",
   "metadata": {},
   "outputs": [
    {
     "name": "stdout",
     "output_type": "stream",
     "text": [
      "No se puede dividir por cero.\n"
     ]
    }
   ],
   "source": [
    "# Ejemplo de manejo de excepciones\n",
    "try:\n",
    "    x = 10 / 0\n",
    "except ZeroDivisionError:\n",
    "    print(\"No se puede dividir por cero.\")\n"
   ]
  },
  {
   "cell_type": "markdown",
   "id": "fb979f3c",
   "metadata": {},
   "source": [
    "Actividad: Investigar los tipos más comunes de error y el manejo correspondiente con try - except"
   ]
  }
 ],
 "metadata": {
  "kernelspec": {
   "display_name": "Python 3 (ipykernel)",
   "language": "python",
   "name": "python3"
  },
  "language_info": {
   "codemirror_mode": {
    "name": "ipython",
    "version": 3
   },
   "file_extension": ".py",
   "mimetype": "text/x-python",
   "name": "python",
   "nbconvert_exporter": "python",
   "pygments_lexer": "ipython3",
   "version": "3.11.4"
  }
 },
 "nbformat": 4,
 "nbformat_minor": 5
}
