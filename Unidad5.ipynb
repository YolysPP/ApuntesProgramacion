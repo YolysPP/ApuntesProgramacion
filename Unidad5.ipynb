{
 "cells": [
  {
   "cell_type": "markdown",
   "id": "ee966d29",
   "metadata": {},
   "source": [
    "# Unidad 5. Uso de memoria secundaria para lectura y escritura"
   ]
  },
  {
   "cell_type": "markdown",
   "id": "66cb8f1f",
   "metadata": {},
   "source": [
    "## 5.1 Introducción a los flujos de datos"
   ]
  },
  {
   "cell_type": "markdown",
   "id": "92ccb5d1",
   "metadata": {},
   "source": [
    "Los flujo de datos en Python son canales de comunicación que permiten la entrada y salida de datos desde y hacia un programa."
   ]
  },
  {
   "cell_type": "markdown",
   "id": "1a2a7248",
   "metadata": {},
   "source": [
    "#### Ejemplo 1: "
   ]
  },
  {
   "cell_type": "code",
   "execution_count": null,
   "id": "56b6542d",
   "metadata": {},
   "outputs": [],
   "source": [
    "# Ejemplo de entrada de datos desde el usuario\n",
    "nombre = input(\"Ingrese su nombre: \")\n",
    "print(\"Hola,\", nombre)"
   ]
  },
  {
   "cell_type": "markdown",
   "id": "09c2af54",
   "metadata": {},
   "source": [
    "## 5.2 Apertura y cierre de un archivo"
   ]
  },
  {
   "cell_type": "markdown",
   "id": "b7341250",
   "metadata": {},
   "source": [
    "En Python, se utilizan funciones como **open()** para abrir un archivo y **close()** para cerrarlo. La apertura puede realizarse en modo lectura ('r'), escritura ('w'), o ambos ('r+') o ('w+')."
   ]
  },
  {
   "cell_type": "markdown",
   "id": "59b58310",
   "metadata": {},
   "source": [
    "### Archivos de texto sin formato"
   ]
  },
  {
   "cell_type": "markdown",
   "id": "502c1bcf",
   "metadata": {},
   "source": [
    "#### Ejemplo 2"
   ]
  },
  {
   "cell_type": "code",
   "execution_count": null,
   "id": "748c59c2",
   "metadata": {},
   "outputs": [],
   "source": [
    "# Ejemplo de apertura y escritura en un archivo\n",
    "with open('archivo.txt', 'w') as archivo:\n",
    "    archivo.write('Hola, mundo!')\n"
   ]
  },
  {
   "cell_type": "markdown",
   "id": "84cac1c2",
   "metadata": {},
   "source": [
    "#### Ejemplo 3:"
   ]
  },
  {
   "cell_type": "code",
   "execution_count": null,
   "id": "27303225",
   "metadata": {},
   "outputs": [],
   "source": [
    "# Ejemplo de lectura de un archivo de texto\n",
    "with open('archivo.txt', 'r') as archivo:\n",
    "    contenido = archivo.read()\n",
    "    print(contenido)"
   ]
  },
  {
   "cell_type": "markdown",
   "id": "5b446be1",
   "metadata": {},
   "source": [
    "#### Ejemplo 4:"
   ]
  },
  {
   "cell_type": "code",
   "execution_count": null,
   "id": "658aca45",
   "metadata": {},
   "outputs": [],
   "source": [
    "# Ejemplo de apertura, lectura y escritura de un archivo de texto con 'r+'\n",
    "with open('archivo.txt', 'r+') as archivo:\n",
    "    # Leemos el contenido existente del archivo\n",
    "    contenido = archivo.read()\n",
    "    print(\"Contenido original del archivo:\")\n",
    "    print(contenido)\n",
    "\n",
    "    # Movemos el puntero al final del archivo y escribimos más datos\n",
    "    archivo.write('\\nAñadiendo más texto al final del archivo.')\n",
    "\n",
    "    # Movemos el puntero al inicio del archivo para leerlo completo\n",
    "    archivo.seek(0)\n",
    "\n",
    "    # Leemos y mostramos el contenido actualizado del archivo\n",
    "    contenido_actualizado = archivo.read()\n",
    "    print(\"\\nContenido actualizado del archivo:\")\n",
    "    print(contenido_actualizado)\n"
   ]
  },
  {
   "cell_type": "markdown",
   "id": "11e5f350",
   "metadata": {},
   "source": [
    "#### Ejemplo 5: "
   ]
  },
  {
   "cell_type": "code",
   "execution_count": null,
   "id": "69e9844f",
   "metadata": {},
   "outputs": [],
   "source": [
    "# Ejemplo de apertura, escritura y lectura de un archivo de texto\n",
    "with open('archivo.txt', 'w+') as archivo:\n",
    "    # Escribimos datos en el archivo\n",
    "    archivo.write('Hola, mundo!\\n')\n",
    "    archivo.write('Este es un ejemplo de escritura en un archivo.\\n')\n",
    "\n",
    "    # Movemos el puntero al inicio del archivo para leerlo\n",
    "    archivo.seek(0)\n",
    "\n",
    "    # Leemos y mostramos el contenido del archivo\n",
    "    contenido = archivo.read()\n",
    "    print(\"Contenido del archivo:\")\n",
    "    print(contenido)\n"
   ]
  },
  {
   "cell_type": "markdown",
   "id": "9d18620d",
   "metadata": {},
   "source": [
    "### Archivos CSV"
   ]
  },
  {
   "cell_type": "markdown",
   "id": "d2823e53",
   "metadata": {},
   "source": [
    "En Python, la manipulación de archivos no se limita a texto sin formato. También podemos trabajar con archivos CSV (Comma Separated Values), que son comúnmente utilizados para almacenar datos tabulares."
   ]
  },
  {
   "cell_type": "markdown",
   "id": "f7b7a51c",
   "metadata": {},
   "source": [
    "#### Ejemplo 6:"
   ]
  },
  {
   "cell_type": "code",
   "execution_count": null,
   "id": "85e5f3d1",
   "metadata": {},
   "outputs": [],
   "source": [
    "# Ejemplo de escritura en un archivo CSV\n",
    "import csv\n",
    "\n",
    "datos = [\n",
    "    [\"Nombre\", \"Edad\", \"Ciudad\"],\n",
    "    [\"Ana\", 25, \"Barcelona\"],\n",
    "    [\"Juan\", 30, \"Madrid\"],\n",
    "    [\"María\", 22, \"Sevilla\"]\n",
    "]\n",
    "\n",
    "with open('datos.csv', 'w', newline='') as archivo_csv:\n",
    "    escritor_csv = csv.writer(archivo_csv)\n",
    "    escritor_csv.writerows(datos)\n"
   ]
  },
  {
   "cell_type": "markdown",
   "id": "657cfe9a",
   "metadata": {},
   "source": [
    "#### Ejemplo 7:"
   ]
  },
  {
   "cell_type": "code",
   "execution_count": null,
   "id": "0bedd1a7",
   "metadata": {},
   "outputs": [],
   "source": [
    "# Ejemplo de lectura de un archivo CSV\n",
    "with open('datos.csv', 'r') as archivo_csv:\n",
    "    lector_csv = csv.reader(archivo_csv)\n",
    "    for fila in lector_csv:\n",
    "        print(fila)\n"
   ]
  },
  {
   "cell_type": "markdown",
   "id": "654ef30f",
   "metadata": {},
   "source": [
    "## 5.3 Funciones de lectura y escritura"
   ]
  },
  {
   "cell_type": "markdown",
   "id": "95c95703",
   "metadata": {},
   "source": [
    "### Métodos o funciones de escritura"
   ]
  },
  {
   "cell_type": "markdown",
   "id": "db00b33e",
   "metadata": {},
   "source": [
    "##### write (str)"
   ]
  },
  {
   "cell_type": "markdown",
   "id": "3c75f87d",
   "metadata": {},
   "source": [
    "Escribe la cadena de caracteres proporcionada en el archivo."
   ]
  },
  {
   "cell_type": "markdown",
   "id": "06160733",
   "metadata": {},
   "source": [
    "#### Ejemplo 8:"
   ]
  },
  {
   "cell_type": "code",
   "execution_count": null,
   "id": "0c7146c0",
   "metadata": {},
   "outputs": [],
   "source": [
    "with open('archivo.txt', 'w') as archivo:\n",
    "    archivo.write('Hola, mundo!')\n"
   ]
  },
  {
   "cell_type": "markdown",
   "id": "16a6d47f",
   "metadata": {},
   "source": [
    "##### writelines(list_of_str):"
   ]
  },
  {
   "cell_type": "markdown",
   "id": "56e5bef8",
   "metadata": {},
   "source": [
    "Escribe una lista de cadenas de caracteres en el archivo."
   ]
  },
  {
   "cell_type": "markdown",
   "id": "934f8e8d",
   "metadata": {},
   "source": [
    "#### Ejemplo 9:"
   ]
  },
  {
   "cell_type": "code",
   "execution_count": null,
   "id": "c9e783a7",
   "metadata": {},
   "outputs": [],
   "source": [
    "with open('archivo.txt', 'w') as archivo:\n",
    "    lineas = ['Línea 1\\n', 'Línea 2\\n', 'Línea 3\\n']\n",
    "    archivo.writelines(lineas)\n"
   ]
  },
  {
   "cell_type": "markdown",
   "id": "82d5f6d5",
   "metadata": {},
   "source": [
    "### Métodos de lectura"
   ]
  },
  {
   "cell_type": "markdown",
   "id": "dd898f36",
   "metadata": {},
   "source": [
    "##### read(size):"
   ]
  },
  {
   "cell_type": "markdown",
   "id": "3d518f18",
   "metadata": {},
   "source": [
    "Lee y devuelve los primeros **size** bytes del archivo. Si **size** no se proporciona o es negativo, se lee todo el contenido."
   ]
  },
  {
   "cell_type": "markdown",
   "id": "6481524d",
   "metadata": {},
   "source": [
    "#### Ejemplo 10:"
   ]
  },
  {
   "cell_type": "code",
   "execution_count": null,
   "id": "6e57894a",
   "metadata": {},
   "outputs": [],
   "source": [
    "with open('archivo.txt', 'r') as archivo:\n",
    "    contenido = archivo.read()\n",
    "    print(contenido)\n"
   ]
  },
  {
   "cell_type": "markdown",
   "id": "1cbdd0e9",
   "metadata": {},
   "source": [
    "##### readline(size):"
   ]
  },
  {
   "cell_type": "markdown",
   "id": "42ec5b10",
   "metadata": {},
   "source": [
    "Lee y devuelve la siguiente línea del archivo. Si size se proporciona, se lee esa cantidad de bytes."
   ]
  },
  {
   "cell_type": "markdown",
   "id": "60027919",
   "metadata": {},
   "source": [
    "#### Ejemplo 11: "
   ]
  },
  {
   "cell_type": "code",
   "execution_count": null,
   "id": "466996bb",
   "metadata": {},
   "outputs": [],
   "source": [
    "with open('archivo.txt', 'r') as archivo:\n",
    "    linea = archivo.readline()\n",
    "    print(linea)\n"
   ]
  },
  {
   "cell_type": "markdown",
   "id": "a027c442",
   "metadata": {},
   "source": [
    "##### readlines(hint):"
   ]
  },
  {
   "cell_type": "markdown",
   "id": "e0ed5720",
   "metadata": {},
   "source": [
    "Lee y devuelve una lista de líneas del archivo. Si hint se proporciona, se lee aproximadamente esa cantidad de bytes."
   ]
  },
  {
   "cell_type": "markdown",
   "id": "62a4a940",
   "metadata": {},
   "source": [
    "#### Ejemplo 12:"
   ]
  },
  {
   "cell_type": "code",
   "execution_count": null,
   "id": "6555d169",
   "metadata": {},
   "outputs": [],
   "source": [
    "with open('archivo.txt', 'r') as archivo:\n",
    "    lineas = archivo.readlines()\n",
    "    print(lineas)\n"
   ]
  },
  {
   "cell_type": "markdown",
   "id": "2b83864f",
   "metadata": {},
   "source": [
    "##### iterator:"
   ]
  },
  {
   "cell_type": "markdown",
   "id": "6d1c4a8e",
   "metadata": {},
   "source": [
    "Puedes iterar directamente sobre el archivo para leer línea por línea."
   ]
  },
  {
   "cell_type": "markdown",
   "id": "451a580a",
   "metadata": {},
   "source": [
    "#### Ejemplo 13:"
   ]
  },
  {
   "cell_type": "code",
   "execution_count": null,
   "id": "691db9b4",
   "metadata": {},
   "outputs": [],
   "source": [
    "with open('archivo.txt', 'r') as archivo:\n",
    "    for linea in archivo:\n",
    "        print(linea)\n"
   ]
  },
  {
   "cell_type": "markdown",
   "id": "90e0e48b",
   "metadata": {},
   "source": [
    "## 5.4 Tipos de excepciones"
   ]
  },
  {
   "cell_type": "markdown",
   "id": "cf7eacc6",
   "metadata": {},
   "source": [
    "### Definición"
   ]
  },
  {
   "cell_type": "markdown",
   "id": "b89ca583",
   "metadata": {},
   "source": [
    "Las excepciones son eventos inesperados que interrumpen el flujo normal del programa. En Python, hay varios tipos de excepciones, como FileNotFoundError, TypeError, etc."
   ]
  },
  {
   "cell_type": "markdown",
   "id": "176f18ba",
   "metadata": {},
   "source": [
    "##### Error TypeError"
   ]
  },
  {
   "cell_type": "markdown",
   "id": "dfae0caa",
   "metadata": {},
   "source": [
    "#### Ejemplo 14:"
   ]
  },
  {
   "cell_type": "code",
   "execution_count": null,
   "id": "ceff8daa",
   "metadata": {},
   "outputs": [],
   "source": [
    "# Ejemplo de TypeError\n",
    "numero = \"dos\"\n",
    "try:\n",
    "    resultado = 10 + numero\n",
    "except TypeError as e:\n",
    "    print(f\"Error: {e}\")\n"
   ]
  },
  {
   "cell_type": "markdown",
   "id": "2fadafee",
   "metadata": {},
   "source": [
    "##### Error FileNotFoundError"
   ]
  },
  {
   "cell_type": "markdown",
   "id": "50cb5093",
   "metadata": {},
   "source": [
    "#### Ejemplo 15"
   ]
  },
  {
   "cell_type": "code",
   "execution_count": null,
   "id": "e16f92b2",
   "metadata": {},
   "outputs": [],
   "source": [
    "try:\n",
    "    # Intentamos abrir un archivo que no existe\n",
    "    with open('archivo_inexistente.txt', 'r') as archivo:\n",
    "        contenido = archivo.read()\n",
    "        print(contenido)\n",
    "\n",
    "except FileNotFoundError:\n",
    "    # Capturamos la excepción FileNotFoundError\n",
    "    print(\"El archivo no se encontró. Verifica el nombre o la ruta.\")\n",
    "\n",
    "except Exception as e:\n",
    "    # Capturamos cualquier otra excepción que pueda ocurrir\n",
    "    print(f\"Ocurrió un error: {e}\")\n"
   ]
  },
  {
   "cell_type": "markdown",
   "id": "32d18a5c",
   "metadata": {},
   "source": [
    "## 5.5 Manejo de excepciones"
   ]
  },
  {
   "cell_type": "markdown",
   "id": "cbc61a32",
   "metadata": {},
   "source": [
    "### Definición "
   ]
  },
  {
   "cell_type": "markdown",
   "id": "f2ce07c6",
   "metadata": {},
   "source": [
    "El manejo de excepciones se realiza mediante bloques try y except. Esto permite controlar errores y ejecutar un código alternativo cuando se detecta una excepción."
   ]
  },
  {
   "cell_type": "markdown",
   "id": "b0dfe680",
   "metadata": {},
   "source": [
    "#### Ejemplo 16: "
   ]
  },
  {
   "cell_type": "code",
   "execution_count": null,
   "id": "90172c06",
   "metadata": {},
   "outputs": [],
   "source": [
    "# Ejemplo de manejo de excepciones\n",
    "try:\n",
    "    x = 10 / 0\n",
    "except ZeroDivisionError:\n",
    "    print(\"No se puede dividir por cero.\")\n"
   ]
  },
  {
   "cell_type": "markdown",
   "id": "74b03aa4",
   "metadata": {},
   "source": [
    "**Actividad:** Investigar los tipos más comunes de error y el manejo correspondiente con try - except"
   ]
  }
 ],
 "metadata": {
  "kernelspec": {
   "display_name": "Python 3 (ipykernel)",
   "language": "python",
   "name": "python3"
  },
  "language_info": {
   "codemirror_mode": {
    "name": "ipython",
    "version": 3
   },
   "file_extension": ".py",
   "mimetype": "text/x-python",
   "name": "python",
   "nbconvert_exporter": "python",
   "pygments_lexer": "ipython3",
   "version": "3.11.4"
  }
 },
 "nbformat": 4,
 "nbformat_minor": 5
}
